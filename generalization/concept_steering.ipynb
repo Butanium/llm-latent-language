{
 "cells": [
  {
   "cell_type": "code",
   "execution_count": 1,
   "metadata": {},
   "outputs": [],
   "source": [
    "%load_ext autoreload\n",
    "%autoreload 3\n",
    "import sys\n",
    "\n",
    "sys.path.append(\"..\")\n",
    "from nnsight import LanguageModel, CONFIG\n",
    "import torch.nn.functional as F\n",
    "from torch.utils.data import DataLoader\n",
    "import torch as th\n",
    "import torch  # for those who are afraid of th\n",
    "import numpy as np\n",
    "import pandas as pd\n",
    "import json\n",
    "import matplotlib.pyplot as plt\n",
    "from tqdm.notebook import tqdm, trange\n",
    "import seaborn as sns\n",
    "from transformers import AutoTokenizer, AutoModelForCausalLM, AutoConfig\n",
    "from pathlib import Path\n",
    "from time import time\n",
    "import itertools\n",
    "from dataclasses import dataclass\n",
    "from warnings import warn\n",
    "from random import shuffle, sample\n",
    "# Fix logger bug\n",
    "import babelnet\n",
    "from nnsight import logger\n",
    "\n",
    "logger.disabled = True\n",
    "th.set_grad_enabled(False)\n",
    "import os"
   ]
  },
  {
   "cell_type": "markdown",
   "metadata": {},
   "source": [
    "## Get the prompts"
   ]
  },
  {
   "cell_type": "code",
   "execution_count": null,
   "metadata": {},
   "outputs": [],
   "source": [
    "batch_size = 16\n",
    "from exp_tools import load_model\n",
    "\n",
    "model = load_model(\"/dlabscratch1/public/llm_weights/llama2_hf/Llama-2-7b-hf\")\n",
    "\n",
    "from translation_tools import prompts_from_df, get_bn_dataset\n",
    "\n",
    "de_df = get_bn_dataset(\"de\", \"de\")\n",
    "de_prompts = prompts_from_df(\"de\", \"de\", de_df)\n",
    "fr_df = get_bn_dataset(\"fr\", \"fr\")\n",
    "fr_prompts = prompts_from_df(\"fr\", \"fr\", fr_df)"
   ]
  },
  {
   "cell_type": "code",
   "execution_count": null,
   "metadata": {},
   "outputs": [
    {
     "name": "stdout",
     "output_type": "stream",
     "text": [
      "Deutsch: \"Auge\" - Deutsch: \"Auge\"\n",
      "Deutsch: \"Linie\" - Deutsch: \"Linie\"\n",
      "Deutsch: \"Person\" - Deutsch: \"Person\"\n",
      "Deutsch: \"Punkt\" - Deutsch: \"Punkt\"\n",
      "Deutsch: \"Tuch\" - Deutsch: \"Tuch\"\n",
      "Deutsch: \"Buch\" - Deutsch: \"\n"
     ]
    }
   ],
   "source": [
    "print(de_prompts[0])"
   ]
  },
  {
   "cell_type": "markdown",
   "metadata": {},
   "source": [
    "## Compute the mean vector"
   ]
  },
  {
   "cell_type": "code",
   "execution_count": null,
   "metadata": {},
   "outputs": [
    {
     "data": {
      "application/vnd.jupyter.widget-view+json": {
       "model_id": "58881253ea4a48f58043e8638b01d5c8",
       "version_major": 2,
       "version_minor": 0
      },
      "text/plain": [
       "  0%|          | 0/6 [00:00<?, ?it/s]"
      ]
     },
     "metadata": {},
     "output_type": "display_data"
    },
    {
     "name": "stderr",
     "output_type": "stream",
     "text": [
      "2024-06-10 14:56:49,083 [accelerate.utils.modeling] INFO: We will use 90% of the memory on device 0 for storing the model, and 10% for the buffer to avoid OOM. You can set `max_memory` in to a higher value to use more memory (at your own risk).\n"
     ]
    },
    {
     "data": {
      "application/vnd.jupyter.widget-view+json": {
       "model_id": "85d784b35a514874afbd4f80fff36ad9",
       "version_major": 2,
       "version_minor": 0
      },
      "text/plain": [
       "Loading checkpoint shards:   0%|          | 0/2 [00:00<?, ?it/s]"
      ]
     },
     "metadata": {},
     "output_type": "display_data"
    },
    {
     "name": "stderr",
     "output_type": "stream",
     "text": [
      "You're using a LlamaTokenizerFast tokenizer. Please note that with a fast tokenizer, using the `__call__` method is faster than using a method to encode the text followed by a call to the `pad` method to get a padded encoding.\n"
     ]
    }
   ],
   "source": [
    "from exp_tools import get_mean_activations\n",
    "de_means = get_mean_activations(model, de_prompts, batch_size=batch_size)"
   ]
  },
  {
   "cell_type": "code",
   "execution_count": null,
   "metadata": {},
   "outputs": [],
   "source": [
    "langs = [\"fr\", \"es\", \"de\", \"it\", \"zh\", \"ru\", \"ja\", \"en\"]\n",
    "# all_df = get_bn_dataset(\"en\", langs)"
   ]
  },
  {
   "cell_type": "code",
   "execution_count": null,
   "metadata": {},
   "outputs": [
    {
     "data": {
      "application/vnd.jupyter.widget-view+json": {
       "model_id": "5562b0014ad349438e3d6156da5b6e33",
       "version_major": 2,
       "version_minor": 0
      },
      "text/plain": [
       "  0%|          | 0/6 [00:00<?, ?it/s]"
      ]
     },
     "metadata": {},
     "output_type": "display_data"
    },
    {
     "data": {
      "application/vnd.jupyter.widget-view+json": {
       "model_id": "13e3f1e7a70149b082354ef51b6308d7",
       "version_major": 2,
       "version_minor": 0
      },
      "text/plain": [
       "  0%|          | 0/7 [00:00<?, ?it/s]"
      ]
     },
     "metadata": {},
     "output_type": "display_data"
    },
    {
     "data": {
      "application/vnd.jupyter.widget-view+json": {
       "model_id": "04e5d8bb47214374818af9416919cfe2",
       "version_major": 2,
       "version_minor": 0
      },
      "text/plain": [
       "  0%|          | 0/7 [00:00<?, ?it/s]"
      ]
     },
     "metadata": {},
     "output_type": "display_data"
    },
    {
     "data": {
      "application/vnd.jupyter.widget-view+json": {
       "model_id": "7d03c43c3fd14f62835b85b7722d76c1",
       "version_major": 2,
       "version_minor": 0
      },
      "text/plain": [
       "  0%|          | 0/5 [00:00<?, ?it/s]"
      ]
     },
     "metadata": {},
     "output_type": "display_data"
    },
    {
     "data": {
      "application/vnd.jupyter.widget-view+json": {
       "model_id": "763195d85a6146e6acc4eb42df51fd8c",
       "version_major": 2,
       "version_minor": 0
      },
      "text/plain": [
       "  0%|          | 0/6 [00:00<?, ?it/s]"
      ]
     },
     "metadata": {},
     "output_type": "display_data"
    },
    {
     "data": {
      "application/vnd.jupyter.widget-view+json": {
       "model_id": "611165dfa38945e9b44393fe3fae32b2",
       "version_major": 2,
       "version_minor": 0
      },
      "text/plain": [
       "  0%|          | 0/6 [00:00<?, ?it/s]"
      ]
     },
     "metadata": {},
     "output_type": "display_data"
    },
    {
     "data": {
      "application/vnd.jupyter.widget-view+json": {
       "model_id": "7ed9586dcf534cc2a537e418bb7ff63b",
       "version_major": 2,
       "version_minor": 0
      },
      "text/plain": [
       "  0%|          | 0/6 [00:00<?, ?it/s]"
      ]
     },
     "metadata": {},
     "output_type": "display_data"
    }
   ],
   "source": [
    "lang_means = []\n",
    "for lang in langs:\n",
    "    if lang == \"de\":\n",
    "        continue\n",
    "    lang_df = get_bn_dataset(lang, lang)\n",
    "    lang_prompts = prompts_from_df(lang, lang, lang_df)\n",
    "    lang_means.append(get_mean_activations(model, lang_prompts, batch_size=batch_size))\n",
    "means = []\n",
    "for i in range(len(lang_means[0])):\n",
    "    mean = sum([m[i] for m in lang_means]) / len(lang_means)\n",
    "    means.append(mean)\n",
    "lang_means = means"
   ]
  },
  {
   "cell_type": "code",
   "execution_count": null,
   "metadata": {},
   "outputs": [],
   "source": [
    "steering_vectors = [neutral - de for de, neutral in zip(de_means, lang_means)]"
   ]
  },
  {
   "cell_type": "code",
   "execution_count": null,
   "metadata": {},
   "outputs": [
    {
     "name": "stdout",
     "output_type": "stream",
     "text": [
      "Deutsch: \"Auge\" - Deutsch: \"Auge\"\n",
      "Deutsch: \"Linie\" - Deutsch: \"Linie\"\n",
      "Deutsch: \"Person\" - Deutsch: \"Person\"\n",
      "Deutsch: \"Punkt\" - Deutsch: \"Punkt\"\n",
      "Deutsch: \"Tuch\" - Deutsch: \"Tuch\"\n",
      "Deutsch: \"Buch\n"
     ]
    }
   ],
   "source": [
    "from exp_tools import collect_activations\n",
    "buch_prompt = '\"'.join(de_prompts[0].split('\"')[:-2])\n",
    "print(buch_prompt)\n",
    "buch_latents = collect_activations(model, de_prompts[0])"
   ]
  },
  {
   "cell_type": "code",
   "execution_count": null,
   "metadata": {},
   "outputs": [],
   "source": [
    "neutral_buch = [buch + steering for buch, steering in zip(buch_latents, steering_vectors)]"
   ]
  },
  {
   "cell_type": "code",
   "execution_count": null,
   "metadata": {},
   "outputs": [],
   "source": [
    "description_prompt = \"\"\"Nuage: Un nuage est en météorologie une masse visible constituée initialement d'une grande quantité de gouttelettes d'eau en suspension dans l'atmosphère au-dessus de la surface d'une planète.\n",
    "Stern: Unter einem Stern versteht man in der Astronomie einen massereichen, selbstleuchtenden Himmelskörper aus sehr heißem Gas und Plasma, wie zum Beispiel die Sonne.\n",
    "Car: A car is a wheeled motor vehicle used for transportation. Most definitions of cars say that they run primarily on roads, seat one to eight people, have four tires, and mainly transport people rather than goods.\n",
    "Montagne: Une montagne est une forme topographique de relief positif, à la surface de planètes telluriques, et faisant partie d'un ensemble — une chaîne de montagnes — ou formant un relief isolé.\n",
    "Tiger: The tiger (Panthera tigris) is the largest extant cat species and a member of the genus Panthera. It is most recognisable for its dark vertical stripes on orange-brown fur with a lighter underside.\n",
    "Wave: In physics, mathematics, and related fields, a wave is a propagating dynamic disturbance (change from equilibrium) of one or more quantities, sometimes as described by a wave equation.\n",
    "Wasser: Wasser ist insbesondere die chemische Verbindung H2O, bestehend aus den Elementen Sauerstoff und Wasserstoff.\n",
    "Maison: Une maison est un bâtiment d'habitation, souvent de taille moyenne destiné au logement d'une famille ou de plusieurs, sans être considéré comme un immeuble collectif.\n",
    "?\"\"\""
   ]
  },
  {
   "cell_type": "code",
   "execution_count": null,
   "metadata": {},
   "outputs": [
    {
     "name": "stderr",
     "output_type": "stream",
     "text": [
      "`eos_token_id` should consist of positive integers, but is FakeTensor(..., device='cuda:0', size=(1,), dtype=torch.int64). Your generation will not stop until the maximum length is reached. Depending on other flags, it may even crash.\n",
      "/dlabscratch1/cdumas/.conda_envs/llmenglish/lib/python3.11/site-packages/transformers/generation/configuration_utils.py:533: UserWarning: `do_sample` is set to `False`. However, `temperature` is set to `0.6` -- this flag is only used in sample-based generation modes. You should set `do_sample=True` or unset `temperature`.\n",
      "  warnings.warn(\n",
      "/dlabscratch1/cdumas/.conda_envs/llmenglish/lib/python3.11/site-packages/transformers/generation/configuration_utils.py:538: UserWarning: `do_sample` is set to `False`. However, `top_p` is set to `0.9` -- this flag is only used in sample-based generation modes. You should set `do_sample=True` or unset `top_p`.\n",
      "  warnings.warn(\n",
      "`eos_token_id` should consist of positive integers, but is FakeTensor(..., device='cuda:0', size=(1,), dtype=torch.int64). Your generation will not stop until the maximum length is reached. Depending on other flags, it may even crash.\n"
     ]
    },
    {
     "name": "stdout",
     "output_type": "stream",
     "text": [
      "<s>Nuage: Un nuage est en météorologie une masse visible constituée initialement d'une grande quantité de gouttelettes d'eau en suspension dans l'atmosphère au-dessus de la surface d'une planète.\n",
      "Stern: Unter einem Stern versteht man in der Astronomie einen massereichen, selbstleuchtenden Himmelskörper aus sehr heißem Gas und Plasma, wie zum Beispiel die Sonne.\n",
      "Car: A car is a wheeled motor vehicle used for transportation. Most definitions of cars say that they run primarily on roads, seat one to eight people, have four tires, and mainly transport people rather than goods.\n",
      "Montagne: Une montagne est une forme topographique de relief positif, à la surface de planètes telluriques, et faisant partie d'un ensemble — une chaîne de montagnes — ou formant un relief isolé.\n",
      "Tiger: The tiger (Panthera tigris) is the largest extant cat species and a member of the genus Panthera. It is most recognisable for its dark vertical stripes on orange-brown fur with a lighter underside.\n",
      "Wave: In physics, mathematics, and related fields, a wave is a propagating dynamic disturbance (change from equilibrium) of one or more quantities, sometimes as described by a wave equation.\n",
      "Wasser: Wasser ist insbesondere die chemische Verbindung H2O, bestehend aus den Elementen Sauerstoff und Wasserstoff.\n",
      "Maison: Une maison est un bâtiment d'habitation, souvent de taille moyenne destiné au logement d'une famille ou de plusieurs, sans être considéré comme un immeuble collectif.\n",
      "?:bouquet: La rose est une plante grimpante ou ligneuse, de la famille\n"
     ]
    },
    {
     "name": "stderr",
     "output_type": "stream",
     "text": [
      "/dlabscratch1/cdumas/.conda_envs/llmenglish/lib/python3.11/site-packages/transformers/generation/configuration_utils.py:533: UserWarning: `do_sample` is set to `False`. However, `temperature` is set to `0.6` -- this flag is only used in sample-based generation modes. You should set `do_sample=True` or unset `temperature`.\n",
      "  warnings.warn(\n",
      "/dlabscratch1/cdumas/.conda_envs/llmenglish/lib/python3.11/site-packages/transformers/generation/configuration_utils.py:538: UserWarning: `do_sample` is set to `False`. However, `top_p` is set to `0.9` -- this flag is only used in sample-based generation modes. You should set `do_sample=True` or unset `top_p`.\n",
      "  warnings.warn(\n",
      "`eos_token_id` should consist of positive integers, but is FakeTensor(..., device='cuda:0', size=(1,), dtype=torch.int64). Your generation will not stop until the maximum length is reached. Depending on other flags, it may even crash.\n"
     ]
    },
    {
     "name": "stdout",
     "output_type": "stream",
     "text": [
      "\n",
      "<s>Nuage: Un nuage est en météorologie une masse visible constituée initialement d'une grande quantité de gouttelettes d'eau en suspension dans l'atmosphère au-dessus de la surface d'une planète.\n",
      "Stern: Unter einem Stern versteht man in der Astronomie einen massereichen, selbstleuchtenden Himmelskörper aus sehr heißem Gas und Plasma, wie zum Beispiel die Sonne.\n",
      "Car: A car is a wheeled motor vehicle used for transportation. Most definitions of cars say that they run primarily on roads, seat one to eight people, have four tires, and mainly transport people rather than goods.\n",
      "Montagne: Une montagne est une forme topographique de relief positif, à la surface de planètes telluriques, et faisant partie d'un ensemble — une chaîne de montagnes — ou formant un relief isolé.\n",
      "Tiger: The tiger (Panthera tigris) is the largest extant cat species and a member of the genus Panthera. It is most recognisable for its dark vertical stripes on orange-brown fur with a lighter underside.\n",
      "Wave: In physics, mathematics, and related fields, a wave is a propagating dynamic disturbance (change from equilibrium) of one or more quantities, sometimes as described by a wave equation.\n",
      "Wasser: Wasser ist insbesondere die chemische Verbindung H2O, bestehend aus den Elementen Sauerstoff und Wasserstoff.\n",
      "Maison: Une maison est un bâtiment d'habitation, souvent de taille moyenne destiné au logement d'une famille ou de plusieurs, sans être considéré comme un immeuble collectif.\n",
      "?:Bird: A bird is a warm-blooded vertebrate (or avian) character\n",
      "\n",
      "<s>Nuage: Un nuage est en météorologie une masse visible constituée initialement d'une grande quantité de gouttelettes d'eau en suspension dans l'atmosphère au-dessus de la surface d'une planète.\n",
      "Stern: Unter einem Stern versteht man in der Astronomie einen massereichen, selbstleuchtenden Himmelskörper aus sehr heißem Gas und Plasma, wie zum Beispiel die Sonne.\n",
      "Car: A car is a wheeled motor vehicle used for transportation. Most definitions of cars say that they run primarily on roads, seat one to eight people, have four tires, and mainly transport people rather than goods.\n",
      "Montagne: Une montagne est une forme topographique de relief positif, à la surface de planètes telluriques, et faisant partie d'un ensemble — une chaîne de montagnes — ou formant un relief isolé.\n",
      "Tiger: The tiger (Panthera tigris) is the largest extant cat species and a member of the genus Panthera. It is most recognisable for its dark vertical stripes on orange-brown fur with a lighter underside.\n",
      "Wave: In physics, mathematics, and related fields, a wave is a propagating dynamic disturbance (change from equilibrium) of one or more quantities, sometimes as described by a wave equation.\n",
      "Wasser: Wasser ist insbesondere die chemische Verbindung H2O, bestehend aus den Elementen Sauerstoff und Wasserstoff.\n",
      "Maison: Une maison est un bâtiment d'habitation, souvent de taille moyenne destiné au logement d'une famille ou de plusieurs, sans être considéré comme un immeuble collectif.\n",
      "?: ?\n",
      "Tour: A tower is a tall structure, usually a tall building, often a cyl\n"
     ]
    }
   ],
   "source": [
    "from nnsight_utils import get_layer_output, get_next_token_probs\n",
    "layer = 22\n",
    "max_t = 20\n",
    "with model.generate(description_prompt, max_new_tokens=max_t):\n",
    "    get_layer_output(model, layer)[:, -1] = neutral_buch[layer]\n",
    "    # probs = get_next_token_probs(model).save()\n",
    "    gen = model.generator.output[0].cpu().save()\n",
    "print(model.tokenizer.decode(gen))\n",
    "with model.generate(description_prompt, max_new_tokens=max_t, do_sample=False):\n",
    "    get_layer_output(model, layer)[:, -1] = buch_latents[layer]\n",
    "    gen2 = model.generator.output[0].cpu().save()\n",
    "print()\n",
    "print(model.tokenizer.decode(gen2))\n",
    "with model.generate(description_prompt, max_new_tokens=max_t):\n",
    "    clean_gen = model.generator.output[0].cpu().save()\n",
    "print()\n",
    "print(model.tokenizer.decode(clean_gen))"
   ]
  },
  {
   "cell_type": "code",
   "execution_count": null,
   "metadata": {},
   "outputs": [
    {
     "name": "stderr",
     "output_type": "stream",
     "text": [
      "/mnt/dlabscratch1/cdumas/llm-latent-language/generalization/../utils.py:490: UserWarning: Tight layout not applied. The bottom and top margins cannot be made large enough to accommodate all axes decorations.\n",
      "  plt.tight_layout()\n"
     ]
    },
    {
     "data": {
      "image/png": "[encoded data removed]",
      "text/plain": [
       "<Figure size 400x50 with 2 Axes>"
      ]
     },
     "metadata": {},
     "output_type": "display_data"
    }
   ],
   "source": [
    "plot_topk_tokens(probs.cpu(), model.tokenizer)"
   ]
  },
  {
   "cell_type": "markdown",
   "metadata": {},
   "source": [
    "## Steer using a random lang task"
   ]
  },
  {
   "cell_type": "code",
   "execution_count": null,
   "metadata": {},
   "outputs": [
    {
     "data": {
      "text/plain": [
       "[tensor([[ 0.0074,  0.0091,  0.0113,  ..., -0.0054,  0.0243,  0.0221]],\n",
       "        dtype=torch.float16),\n",
       " tensor([[-0.0018,  0.0263,  0.0040,  ...,  0.0092,  0.0114,  0.0438]],\n",
       "        dtype=torch.float16),\n",
       " tensor([[-0.0171,  0.0144, -0.0501,  ...,  0.0216,  0.0551,  0.0649]],\n",
       "        dtype=torch.float16),\n",
       " tensor([[ 0.0205,  0.0162,  0.0285,  ..., -0.0180,  0.0374,  0.0724]],\n",
       "        dtype=torch.float16),\n",
       " tensor([[-0.0543,  0.0367, -0.0488,  ...,  0.0764,  0.1110,  0.0266]],\n",
       "        dtype=torch.float16),\n",
       " tensor([[-0.0673,  0.0841, -0.0594,  ...,  0.1548,  0.1089,  0.0637]],\n",
       "        dtype=torch.float16),\n",
       " tensor([[-0.0536,  0.0687,  0.0349,  ...,  0.3406,  0.0548,  0.0829]],\n",
       "        dtype=torch.float16),\n",
       " tensor([[-0.0589, -0.0059,  0.0112,  ...,  0.2668, -0.0408,  0.0162]],\n",
       "        dtype=torch.float16),\n",
       " tensor([[-0.0770, -0.0472,  0.1699,  ...,  0.2261, -0.1440,  0.1880]],\n",
       "        dtype=torch.float16),\n",
       " tensor([[-0.1116,  0.1022,  0.0139,  ...,  0.2405, -0.0396,  0.2170]],\n",
       "        dtype=torch.float16),\n",
       " tensor([[-0.0732,  0.1594,  0.1627,  ...,  0.1284, -0.0787,  0.1302]],\n",
       "        dtype=torch.float16),\n",
       " tensor([[-0.0493,  0.2421,  0.1609,  ...,  0.1868, -0.0568,  0.0535]],\n",
       "        dtype=torch.float16),\n",
       " tensor([[-0.0503, -0.0441, -0.0984,  ...,  0.3477,  0.0699,  0.2026]],\n",
       "        dtype=torch.float16),\n",
       " tensor([[-0.1458,  0.1294, -0.1647,  ...,  0.2388,  0.1333,  0.2981]],\n",
       "        dtype=torch.float16),\n",
       " tensor([[-0.0299,  0.0143, -0.4199,  ...,  0.0991,  0.2537,  0.3093]],\n",
       "        dtype=torch.float16),\n",
       " tensor([[-0.0458, -0.0864, -0.5195,  ..., -0.1367,  0.3384,  0.3757]],\n",
       "        dtype=torch.float16),\n",
       " tensor([[ 0.2026, -0.2861, -0.9561,  ..., -0.1147,  0.8970,  0.3145]],\n",
       "        dtype=torch.float16),\n",
       " tensor([[ 0.3337, -0.2822, -1.1562,  ..., -0.1982,  0.7656,  0.3110]],\n",
       "        dtype=torch.float16),\n",
       " tensor([[ 0.3962, -0.1217, -1.1982,  ..., -0.4536,  0.8569,  0.0659]],\n",
       "        dtype=torch.float16),\n",
       " tensor([[ 0.6479, -0.4224, -1.2568,  ..., -0.6621,  1.0996,  0.0404]],\n",
       "        dtype=torch.float16),\n",
       " tensor([[ 0.4297, -0.2666, -1.0293,  ..., -0.5195,  1.1357,  0.0118]],\n",
       "        dtype=torch.float16),\n",
       " tensor([[ 0.4263, -0.0178, -1.2510,  ..., -0.3101,  0.8140,  0.2661]],\n",
       "        dtype=torch.float16),\n",
       " tensor([[ 0.5122,  0.6265, -1.4980,  ..., -0.3491,  0.6948,  0.1509]],\n",
       "        dtype=torch.float16),\n",
       " tensor([[ 0.2983,  0.5752, -1.3916,  ..., -0.2478,  0.3101,  0.2010]],\n",
       "        dtype=torch.float16),\n",
       " tensor([[ 0.2029,  0.7061, -1.3398,  ..., -0.4927, -0.1061,  0.4485]],\n",
       "        dtype=torch.float16),\n",
       " tensor([[ 0.8076,  0.4778, -1.8672,  ..., -0.3025, -0.1554,  0.4822]],\n",
       "        dtype=torch.float16),\n",
       " tensor([[ 0.2761,  0.5752, -2.1035,  ..., -0.3606, -0.1871,  0.5684]],\n",
       "        dtype=torch.float16),\n",
       " tensor([[-0.6475,  0.8013, -2.1836,  ..., -0.7061, -0.4878,  0.3350]],\n",
       "        dtype=torch.float16),\n",
       " tensor([[-0.7588,  1.5781, -2.9434,  ..., -0.9453,  0.0264,  0.9814]],\n",
       "        dtype=torch.float16),\n",
       " tensor([[-1.2783,  1.8291, -3.0898,  ..., -0.8193,  0.3076,  0.4009]],\n",
       "        dtype=torch.float16),\n",
       " tensor([[-1.4570,  2.0703, -3.0586,  ..., -0.7368, -0.8027,  1.0391]],\n",
       "        dtype=torch.float16),\n",
       " tensor([[-1.4746,  1.4609, -4.1328,  ...,  1.8193, -0.0166,  1.4326]],\n",
       "        dtype=torch.float16)]"
      ]
     },
     "execution_count": 66,
     "metadata": {},
     "output_type": "execute_result"
    }
   ],
   "source": [
    "buch_latents"
   ]
  },
  {
   "cell_type": "code",
   "execution_count": null,
   "metadata": {},
   "outputs": [],
   "source": [
    "from random import sample\n",
    "dataset = {\n",
    "    \"A\": [],\n",
    "    \"B\": [],\n",
    "}\n",
    "num_rep = 5\n",
    "for _, row in all_df.iterrows():\n",
    "    dataset[\"A\"]."
   ]
  },
  {
   "cell_type": "code",
   "execution_count": null,
   "metadata": {},
   "outputs": [
    {
     "data": {
      "text/plain": [
       "94"
      ]
     },
     "execution_count": 34,
     "metadata": {},
     "output_type": "execute_result"
    }
   ],
   "source": [
    "prompt = \"A: cat, B: Katze\\nA:DOG^FR, B: DOG^ZH\\nA:CLOUD^RU\\nB:\""
   ]
  },
  {
   "cell_type": "code",
   "execution_count": null,
   "metadata": {},
   "outputs": [],
   "source": []
  }
 ],
 "metadata": {
  "kernelspec": {
   "display_name": "Python 3",
   "language": "python",
   "name": "python3"
  },
  "language_info": {
   "codemirror_mode": {
    "name": "ipython",
    "version": 3
   },
   "file_extension": ".py",
   "mimetype": "text/x-python",
   "name": "python",
   "nbconvert_exporter": "python",
   "pygments_lexer": "ipython3",
   "version": "3.11.8"
  }
 },
 "nbformat": 4,
 "nbformat_minor": 2
}
