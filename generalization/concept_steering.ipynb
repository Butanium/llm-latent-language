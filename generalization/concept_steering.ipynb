{
 "cells": [
  {
   "cell_type": "code",
   "execution_count": 2,
   "metadata": {},
   "outputs": [
    {
     "data": {
      "text/plain": [
       "True"
      ]
     },
     "execution_count": 2,
     "metadata": {},
     "output_type": "execute_result"
    }
   ],
   "source": [
    "%load_ext autoreload\n",
    "%autoreload 3\n",
    "import sys\n",
    "\n",
    "sys.path.append(\"..\")\n",
    "from nnsight import LanguageModel, CONFIG\n",
    "import torch.nn.functional as F\n",
    "from torch.utils.data import DataLoader\n",
    "import torch as th\n",
    "import torch  # for those who are afraid of th\n",
    "import numpy as np\n",
    "import pandas as pd\n",
    "import json\n",
    "import matplotlib.pyplot as plt\n",
    "from tqdm.notebook import tqdm, trange\n",
    "import seaborn as sns\n",
    "from transformers import AutoTokenizer, AutoModelForCausalLM, AutoConfig\n",
    "from pathlib import Path\n",
    "from time import time\n",
    "import itertools\n",
    "from dataclasses import dataclass\n",
    "from warnings import warn\n",
    "from random import shuffle, sample\n",
    "# Fix logger bug\n",
    "# import babelnet\n",
    "from nnsight import logger\n",
    "\n",
    "logger.disabled = True\n",
    "th.set_grad_enabled(False)\n",
    "import os\n",
    "\n",
    "from dotenv import load_dotenv\n",
    "\n",
    "load_dotenv()"
   ]
  },
  {
   "cell_type": "markdown",
   "metadata": {},
   "source": [
    "## Get the prompts"
   ]
  },
  {
   "cell_type": "code",
   "execution_count": 3,
   "metadata": {},
   "outputs": [
    {
     "name": "stderr",
     "output_type": "stream",
     "text": [
      "2024-06-17 18:43:04,002 [babelnet.conf] INFO: Loaded configuration from ['/dlabscratch1/veselovs/projects/llm-latent-language/babelnet_conf.yml']\n",
      "2024-06-17 18:43:04,011 [babelnet.api] INFO: BabelNet online RESTful API v1.2.0\n"
     ]
    }
   ],
   "source": [
    "batch_size = 16\n",
    "from exp_tools import load_model\n",
    "\n",
    "model = load_model(\"/dlabscratch1/public/llm_weights/llama2_hf/Llama-2-7b-hf\")\n",
    "\n",
    "from translation_tools import prompts_from_df, get_bn_dataset\n",
    "\n",
    "de_df = get_bn_dataset(\"de\", \"de\")\n",
    "de_prompts = prompts_from_df(\"de\", \"de\", de_df)\n",
    "fr_df = get_bn_dataset(\"fr\", \"fr\")\n",
    "fr_prompts = prompts_from_df(\"fr\", \"fr\", fr_df)"
   ]
  },
  {
   "cell_type": "code",
   "execution_count": 4,
   "metadata": {},
   "outputs": [
    {
     "name": "stdout",
     "output_type": "stream",
     "text": [
      "Deutsch: \"Ozean\" - Deutsch: \"Ozean\"\n",
      "Deutsch: \"Lied\" - Deutsch: \"Lied\"\n",
      "Deutsch: \"Norden\" - Deutsch: \"Norden\"\n",
      "Deutsch: \"Schule\" - Deutsch: \"Schule\"\n",
      "Deutsch: \"Osten\" - Deutsch: \"Osten\"\n",
      "Deutsch: \"Buch\" - Deutsch: \"\n"
     ]
    }
   ],
   "source": [
    "print(de_prompts[0])"
   ]
  },
  {
   "cell_type": "markdown",
   "metadata": {},
   "source": [
    "## Compute the mean vector"
   ]
  },
  {
   "cell_type": "code",
   "execution_count": 5,
   "metadata": {},
   "outputs": [
    {
     "data": {
      "application/vnd.jupyter.widget-view+json": {
       "model_id": "c25f8d2b9914433f97b37de0d47e6301",
       "version_major": 2,
       "version_minor": 0
      },
      "text/plain": [
       "  0%|          | 0/6 [00:00<?, ?it/s]"
      ]
     },
     "metadata": {},
     "output_type": "display_data"
    },
    {
     "name": "stderr",
     "output_type": "stream",
     "text": [
      "2024-06-17 18:44:46,104 [nnsight] INFO: Dispatching `/dlabscratch1/public/llm_weights/llama2_hf/Llama-2-7b-hf`...\n"
     ]
    },
    {
     "data": {
      "application/vnd.jupyter.widget-view+json": {
       "model_id": "4723a570a6a4404ca48c91026a1ee436",
       "version_major": 2,
       "version_minor": 0
      },
      "text/plain": [
       "Loading checkpoint shards:   0%|          | 0/2 [00:00<?, ?it/s]"
      ]
     },
     "metadata": {},
     "output_type": "display_data"
    },
    {
     "name": "stderr",
     "output_type": "stream",
     "text": [
      "2024-06-17 18:45:09,868 [nnsight] INFO: Dispatched `/dlabscratch1/public/llm_weights/llama2_hf/Llama-2-7b-hf`\n",
      "2024-06-17 18:45:09,870 [nnsight] INFO: Running `/dlabscratch1/public/llm_weights/llama2_hf/Llama-2-7b-hf`...\n",
      "2024-06-17 18:45:09,878 [nnsight] INFO: => SET(argument_0)\n",
      "2024-06-17 18:45:09,881 [nnsight] INFO: => DEL(argument_0)\n",
      "You're using a LlamaTokenizerFast tokenizer. Please note that with a fast tokenizer, using the `__call__` method is faster than using a method to encode the text followed by a call to the `pad` method to get a padded encoding.\n",
      "2024-06-17 18:45:11,859 [nnsight] INFO: => SET(argument_1)\n",
      "2024-06-17 18:45:11,865 [nnsight] INFO: => SET(getitem_0)\n",
      "2024-06-17 18:45:11,991 [nnsight] INFO: => SET(getitem_1)\n",
      "2024-06-17 18:45:11,995 [nnsight] INFO: => SET(fetch_attr_0)\n",
      "2024-06-17 18:45:11,998 [nnsight] INFO: => SET(proxy_call_0)\n",
      "2024-06-17 18:45:12,001 [nnsight] INFO: => DEL(fetch_attr_0)\n",
      "2024-06-17 18:45:12,004 [nnsight] INFO: => DEL(getitem_1)\n",
      "2024-06-17 18:45:12,007 [nnsight] INFO: => DEL(getitem_0)\n",
      "2024-06-17 18:45:12,009 [nnsight] INFO: => DEL(argument_1)\n",
      "2024-06-17 18:45:12,018 [nnsight] INFO: => SET(argument_2)\n",
      "2024-06-17 18:45:12,022 [nnsight] INFO: => SET(getitem_2)\n",
      "2024-06-17 18:45:12,161 [nnsight] INFO: => SET(getitem_3)\n",
      "2024-06-17 18:45:12,165 [nnsight] INFO: => SET(fetch_attr_1)\n",
      "2024-06-17 18:45:12,168 [nnsight] INFO: => SET(proxy_call_1)\n",
      "2024-06-17 18:45:12,171 [nnsight] INFO: => DEL(fetch_attr_1)\n",
      "2024-06-17 18:45:12,175 [nnsight] INFO: => DEL(getitem_3)\n",
      "2024-06-17 18:45:12,177 [nnsight] INFO: => DEL(getitem_2)\n",
      "2024-06-17 18:45:12,179 [nnsight] INFO: => DEL(argument_2)\n",
      "2024-06-17 18:45:12,190 [nnsight] INFO: => SET(argument_3)\n",
      "2024-06-17 18:45:12,193 [nnsight] INFO: => SET(getitem_4)\n",
      "2024-06-17 18:45:12,326 [nnsight] INFO: => SET(getitem_5)\n",
      "2024-06-17 18:45:12,329 [nnsight] INFO: => SET(fetch_attr_2)\n",
      "2024-06-17 18:45:12,332 [nnsight] INFO: => SET(proxy_call_2)\n",
      "2024-06-17 18:45:12,335 [nnsight] INFO: => DEL(fetch_attr_2)\n",
      "2024-06-17 18:45:12,337 [nnsight] INFO: => DEL(getitem_5)\n",
      "2024-06-17 18:45:12,339 [nnsight] INFO: => DEL(getitem_4)\n",
      "2024-06-17 18:45:12,341 [nnsight] INFO: => DEL(argument_3)\n",
      "2024-06-17 18:45:12,351 [nnsight] INFO: => SET(argument_4)\n",
      "2024-06-17 18:45:12,354 [nnsight] INFO: => SET(getitem_6)\n",
      "2024-06-17 18:45:12,498 [nnsight] INFO: => SET(getitem_7)\n",
      "2024-06-17 18:45:12,501 [nnsight] INFO: => SET(fetch_attr_3)\n",
      "2024-06-17 18:45:12,507 [nnsight] INFO: => SET(proxy_call_3)\n",
      "2024-06-17 18:45:12,515 [nnsight] INFO: => DEL(fetch_attr_3)\n",
      "2024-06-17 18:45:12,517 [nnsight] INFO: => DEL(getitem_7)\n",
      "2024-06-17 18:45:12,521 [nnsight] INFO: => DEL(getitem_6)\n",
      "2024-06-17 18:45:12,524 [nnsight] INFO: => DEL(argument_4)\n",
      "2024-06-17 18:45:12,536 [nnsight] INFO: => SET(argument_5)\n",
      "2024-06-17 18:45:12,539 [nnsight] INFO: => SET(getitem_8)\n",
      "2024-06-17 18:45:12,679 [nnsight] INFO: => SET(getitem_9)\n",
      "2024-06-17 18:45:12,688 [nnsight] INFO: => SET(fetch_attr_4)\n",
      "2024-06-17 18:45:12,694 [nnsight] INFO: => SET(proxy_call_4)\n",
      "2024-06-17 18:45:12,697 [nnsight] INFO: => DEL(fetch_attr_4)\n",
      "2024-06-17 18:45:12,700 [nnsight] INFO: => DEL(getitem_9)\n",
      "2024-06-17 18:45:12,703 [nnsight] INFO: => DEL(getitem_8)\n",
      "2024-06-17 18:45:12,706 [nnsight] INFO: => DEL(argument_5)\n",
      "2024-06-17 18:45:12,715 [nnsight] INFO: => SET(argument_6)\n",
      "2024-06-17 18:45:12,718 [nnsight] INFO: => SET(getitem_10)\n",
      "2024-06-17 18:45:12,856 [nnsight] INFO: => SET(getitem_11)\n",
      "2024-06-17 18:45:12,859 [nnsight] INFO: => SET(fetch_attr_5)\n",
      "2024-06-17 18:45:12,863 [nnsight] INFO: => SET(proxy_call_5)\n",
      "2024-06-17 18:45:12,867 [nnsight] INFO: => DEL(fetch_attr_5)\n",
      "2024-06-17 18:45:12,870 [nnsight] INFO: => DEL(getitem_11)\n",
      "2024-06-17 18:45:12,873 [nnsight] INFO: => DEL(getitem_10)\n",
      "2024-06-17 18:45:12,876 [nnsight] INFO: => DEL(argument_6)\n",
      "2024-06-17 18:45:12,885 [nnsight] INFO: => SET(argument_7)\n",
      "2024-06-17 18:45:12,889 [nnsight] INFO: => SET(getitem_12)\n",
      "2024-06-17 18:45:13,028 [nnsight] INFO: => SET(getitem_13)\n",
      "2024-06-17 18:45:13,031 [nnsight] INFO: => SET(fetch_attr_6)\n",
      "2024-06-17 18:45:13,035 [nnsight] INFO: => SET(proxy_call_6)\n",
      "2024-06-17 18:45:13,038 [nnsight] INFO: => DEL(fetch_attr_6)\n",
      "2024-06-17 18:45:13,041 [nnsight] INFO: => DEL(getitem_13)\n",
      "2024-06-17 18:45:13,044 [nnsight] INFO: => DEL(getitem_12)\n",
      "2024-06-17 18:45:13,047 [nnsight] INFO: => DEL(argument_7)\n",
      "2024-06-17 18:45:13,060 [nnsight] INFO: => SET(argument_8)\n",
      "2024-06-17 18:45:13,064 [nnsight] INFO: => SET(getitem_14)\n",
      "2024-06-17 18:45:13,205 [nnsight] INFO: => SET(getitem_15)\n",
      "2024-06-17 18:45:13,209 [nnsight] INFO: => SET(fetch_attr_7)\n",
      "2024-06-17 18:45:13,212 [nnsight] INFO: => SET(proxy_call_7)\n",
      "2024-06-17 18:45:13,216 [nnsight] INFO: => DEL(fetch_attr_7)\n",
      "2024-06-17 18:45:13,219 [nnsight] INFO: => DEL(getitem_15)\n",
      "2024-06-17 18:45:13,222 [nnsight] INFO: => DEL(getitem_14)\n",
      "2024-06-17 18:45:13,225 [nnsight] INFO: => DEL(argument_8)\n",
      "2024-06-17 18:45:13,235 [nnsight] INFO: => SET(argument_9)\n",
      "2024-06-17 18:45:13,238 [nnsight] INFO: => SET(getitem_16)\n",
      "2024-06-17 18:45:13,377 [nnsight] INFO: => SET(getitem_17)\n",
      "2024-06-17 18:45:13,381 [nnsight] INFO: => SET(fetch_attr_8)\n",
      "2024-06-17 18:45:13,384 [nnsight] INFO: => SET(proxy_call_8)\n",
      "2024-06-17 18:45:13,387 [nnsight] INFO: => DEL(fetch_attr_8)\n",
      "2024-06-17 18:45:13,390 [nnsight] INFO: => DEL(getitem_17)\n",
      "2024-06-17 18:45:13,393 [nnsight] INFO: => DEL(getitem_16)\n",
      "2024-06-17 18:45:13,401 [nnsight] INFO: => DEL(argument_9)\n",
      "2024-06-17 18:45:13,413 [nnsight] INFO: => SET(argument_10)\n",
      "2024-06-17 18:45:13,418 [nnsight] INFO: => SET(getitem_18)\n",
      "2024-06-17 18:45:13,554 [nnsight] INFO: => SET(getitem_19)\n",
      "2024-06-17 18:45:13,557 [nnsight] INFO: => SET(fetch_attr_9)\n",
      "2024-06-17 18:45:13,561 [nnsight] INFO: => SET(proxy_call_9)\n",
      "2024-06-17 18:45:13,564 [nnsight] INFO: => DEL(fetch_attr_9)\n",
      "2024-06-17 18:45:13,567 [nnsight] INFO: => DEL(getitem_19)\n",
      "2024-06-17 18:45:13,570 [nnsight] INFO: => DEL(getitem_18)\n",
      "2024-06-17 18:45:13,572 [nnsight] INFO: => DEL(argument_10)\n",
      "2024-06-17 18:45:13,585 [nnsight] INFO: => SET(argument_11)\n",
      "2024-06-17 18:45:13,588 [nnsight] INFO: => SET(getitem_20)\n",
      "2024-06-17 18:45:13,730 [nnsight] INFO: => SET(getitem_21)\n",
      "2024-06-17 18:45:13,734 [nnsight] INFO: => SET(fetch_attr_10)\n",
      "2024-06-17 18:45:13,738 [nnsight] INFO: => SET(proxy_call_10)\n",
      "2024-06-17 18:45:13,741 [nnsight] INFO: => DEL(fetch_attr_10)\n",
      "2024-06-17 18:45:13,744 [nnsight] INFO: => DEL(getitem_21)\n",
      "2024-06-17 18:45:13,746 [nnsight] INFO: => DEL(getitem_20)\n",
      "2024-06-17 18:45:13,749 [nnsight] INFO: => DEL(argument_11)\n",
      "2024-06-17 18:45:13,762 [nnsight] INFO: => SET(argument_12)\n",
      "2024-06-17 18:45:13,766 [nnsight] INFO: => SET(getitem_22)\n",
      "2024-06-17 18:45:13,911 [nnsight] INFO: => SET(getitem_23)\n",
      "2024-06-17 18:45:13,914 [nnsight] INFO: => SET(fetch_attr_11)\n",
      "2024-06-17 18:45:13,918 [nnsight] INFO: => SET(proxy_call_11)\n",
      "2024-06-17 18:45:13,921 [nnsight] INFO: => DEL(fetch_attr_11)\n",
      "2024-06-17 18:45:13,924 [nnsight] INFO: => DEL(getitem_23)\n",
      "2024-06-17 18:45:13,927 [nnsight] INFO: => DEL(getitem_22)\n",
      "2024-06-17 18:45:13,930 [nnsight] INFO: => DEL(argument_12)\n",
      "2024-06-17 18:45:13,940 [nnsight] INFO: => SET(argument_13)\n",
      "2024-06-17 18:45:13,943 [nnsight] INFO: => SET(getitem_24)\n",
      "2024-06-17 18:45:14,081 [nnsight] INFO: => SET(getitem_25)\n",
      "2024-06-17 18:45:14,087 [nnsight] INFO: => SET(fetch_attr_12)\n",
      "2024-06-17 18:45:14,090 [nnsight] INFO: => SET(proxy_call_12)\n",
      "2024-06-17 18:45:14,093 [nnsight] INFO: => DEL(fetch_attr_12)\n",
      "2024-06-17 18:45:14,098 [nnsight] INFO: => DEL(getitem_25)\n",
      "2024-06-17 18:45:14,101 [nnsight] INFO: => DEL(getitem_24)\n",
      "2024-06-17 18:45:14,104 [nnsight] INFO: => DEL(argument_13)\n",
      "2024-06-17 18:45:14,114 [nnsight] INFO: => SET(argument_14)\n",
      "2024-06-17 18:45:14,118 [nnsight] INFO: => SET(getitem_26)\n",
      "2024-06-17 18:45:14,257 [nnsight] INFO: => SET(getitem_27)\n",
      "2024-06-17 18:45:14,261 [nnsight] INFO: => SET(fetch_attr_13)\n",
      "2024-06-17 18:45:14,265 [nnsight] INFO: => SET(proxy_call_13)\n",
      "2024-06-17 18:45:14,269 [nnsight] INFO: => DEL(fetch_attr_13)\n",
      "2024-06-17 18:45:14,272 [nnsight] INFO: => DEL(getitem_27)\n",
      "2024-06-17 18:45:14,275 [nnsight] INFO: => DEL(getitem_26)\n",
      "2024-06-17 18:45:14,278 [nnsight] INFO: => DEL(argument_14)\n",
      "2024-06-17 18:45:14,290 [nnsight] INFO: => SET(argument_15)\n",
      "2024-06-17 18:45:14,294 [nnsight] INFO: => SET(getitem_28)\n",
      "2024-06-17 18:45:14,437 [nnsight] INFO: => SET(getitem_29)\n",
      "2024-06-17 18:45:14,441 [nnsight] INFO: => SET(fetch_attr_14)\n",
      "2024-06-17 18:45:14,446 [nnsight] INFO: => SET(proxy_call_14)\n",
      "2024-06-17 18:45:14,449 [nnsight] INFO: => DEL(fetch_attr_14)\n",
      "2024-06-17 18:45:14,453 [nnsight] INFO: => DEL(getitem_29)\n",
      "2024-06-17 18:45:14,456 [nnsight] INFO: => DEL(getitem_28)\n",
      "2024-06-17 18:45:14,459 [nnsight] INFO: => DEL(argument_15)\n",
      "2024-06-17 18:45:14,472 [nnsight] INFO: => SET(argument_16)\n",
      "2024-06-17 18:45:14,475 [nnsight] INFO: => SET(getitem_30)\n",
      "2024-06-17 18:45:14,618 [nnsight] INFO: => SET(getitem_31)\n",
      "2024-06-17 18:45:14,622 [nnsight] INFO: => SET(fetch_attr_15)\n",
      "2024-06-17 18:45:14,626 [nnsight] INFO: => SET(proxy_call_15)\n",
      "2024-06-17 18:45:14,629 [nnsight] INFO: => DEL(fetch_attr_15)\n",
      "2024-06-17 18:45:14,632 [nnsight] INFO: => DEL(getitem_31)\n",
      "2024-06-17 18:45:14,635 [nnsight] INFO: => DEL(getitem_30)\n",
      "2024-06-17 18:45:14,637 [nnsight] INFO: => DEL(argument_16)\n",
      "2024-06-17 18:45:14,933 [nnsight] INFO: => SET(argument_17)\n",
      "2024-06-17 18:45:14,937 [nnsight] INFO: => SET(getitem_32)\n",
      "2024-06-17 18:45:15,019 [nnsight] INFO: => SET(getitem_33)\n",
      "2024-06-17 18:45:15,022 [nnsight] INFO: => SET(fetch_attr_16)\n",
      "2024-06-17 18:45:15,026 [nnsight] INFO: => SET(proxy_call_16)\n",
      "2024-06-17 18:45:15,029 [nnsight] INFO: => DEL(fetch_attr_16)\n",
      "2024-06-17 18:45:15,032 [nnsight] INFO: => DEL(getitem_33)\n",
      "2024-06-17 18:45:15,034 [nnsight] INFO: => DEL(getitem_32)\n",
      "2024-06-17 18:45:15,037 [nnsight] INFO: => DEL(argument_17)\n",
      "2024-06-17 18:45:15,046 [nnsight] INFO: => SET(argument_18)\n",
      "2024-06-17 18:45:15,050 [nnsight] INFO: => SET(getitem_34)\n",
      "2024-06-17 18:45:15,283 [nnsight] INFO: => SET(getitem_35)\n",
      "2024-06-17 18:45:15,285 [nnsight] INFO: => SET(fetch_attr_17)\n",
      "2024-06-17 18:45:15,289 [nnsight] INFO: => SET(proxy_call_17)\n",
      "2024-06-17 18:45:15,292 [nnsight] INFO: => DEL(fetch_attr_17)\n",
      "2024-06-17 18:45:15,294 [nnsight] INFO: => DEL(getitem_35)\n",
      "2024-06-17 18:45:15,297 [nnsight] INFO: => DEL(getitem_34)\n",
      "2024-06-17 18:45:15,300 [nnsight] INFO: => DEL(argument_18)\n",
      "2024-06-17 18:45:15,309 [nnsight] INFO: => SET(argument_19)\n",
      "2024-06-17 18:45:15,312 [nnsight] INFO: => SET(getitem_36)\n",
      "2024-06-17 18:45:15,562 [nnsight] INFO: => SET(getitem_37)\n",
      "2024-06-17 18:45:15,565 [nnsight] INFO: => SET(fetch_attr_18)\n",
      "2024-06-17 18:45:15,569 [nnsight] INFO: => SET(proxy_call_18)\n",
      "2024-06-17 18:45:15,573 [nnsight] INFO: => DEL(fetch_attr_18)\n",
      "2024-06-17 18:45:15,575 [nnsight] INFO: => DEL(getitem_37)\n",
      "2024-06-17 18:45:15,578 [nnsight] INFO: => DEL(getitem_36)\n",
      "2024-06-17 18:45:15,581 [nnsight] INFO: => DEL(argument_19)\n",
      "2024-06-17 18:45:15,593 [nnsight] INFO: => SET(argument_20)\n",
      "2024-06-17 18:45:15,596 [nnsight] INFO: => SET(getitem_38)\n",
      "2024-06-17 18:45:15,837 [nnsight] INFO: => SET(getitem_39)\n",
      "2024-06-17 18:45:15,841 [nnsight] INFO: => SET(fetch_attr_19)\n",
      "2024-06-17 18:45:15,845 [nnsight] INFO: => SET(proxy_call_19)\n",
      "2024-06-17 18:45:15,848 [nnsight] INFO: => DEL(fetch_attr_19)\n",
      "2024-06-17 18:45:15,851 [nnsight] INFO: => DEL(getitem_39)\n",
      "2024-06-17 18:45:15,854 [nnsight] INFO: => DEL(getitem_38)\n",
      "2024-06-17 18:45:15,857 [nnsight] INFO: => DEL(argument_20)\n",
      "2024-06-17 18:45:16,010 [nnsight] INFO: => SET(argument_21)\n",
      "2024-06-17 18:45:16,014 [nnsight] INFO: => SET(getitem_40)\n",
      "2024-06-17 18:45:16,087 [nnsight] INFO: => SET(getitem_41)\n",
      "2024-06-17 18:45:16,091 [nnsight] INFO: => SET(fetch_attr_20)\n",
      "2024-06-17 18:45:16,095 [nnsight] INFO: => SET(proxy_call_20)\n",
      "2024-06-17 18:45:16,098 [nnsight] INFO: => DEL(fetch_attr_20)\n",
      "2024-06-17 18:45:16,101 [nnsight] INFO: => DEL(getitem_41)\n",
      "2024-06-17 18:45:16,104 [nnsight] INFO: => DEL(getitem_40)\n",
      "2024-06-17 18:45:16,107 [nnsight] INFO: => DEL(argument_21)\n"
     ]
    },
    {
     "ename": "OutOfMemoryError",
     "evalue": "CUDA out of memory. Tried to allocate 24.00 MiB. GPU \u0001 has a total capacity of 11.92 GiB of which 960.00 KiB is free. Process 2796309 has 5.15 GiB memory in use. Including non-PyTorch memory, this process has 6.76 GiB memory in use. Of the allocated memory 6.52 GiB is allocated by PyTorch, and 130.70 MiB is reserved by PyTorch but unallocated. If reserved but unallocated memory is large try setting PYTORCH_CUDA_ALLOC_CONF=expandable_segments:True to avoid fragmentation.  See documentation for Memory Management  (https://pytorch.org/docs/stable/notes/cuda.html#environment-variables)",
     "output_type": "error",
     "traceback": [
      "\u001b[0;31m---------------------------------------------------------------------------\u001b[0m",
      "\u001b[0;31mOutOfMemoryError\u001b[0m                          Traceback (most recent call last)",
      "Cell \u001b[0;32mIn[5], line 2\u001b[0m\n\u001b[1;32m      1\u001b[0m \u001b[38;5;28;01mfrom\u001b[39;00m \u001b[38;5;21;01mexp_tools\u001b[39;00m \u001b[38;5;28;01mimport\u001b[39;00m get_mean_activations\n\u001b[0;32m----> 2\u001b[0m de_means \u001b[38;5;241m=\u001b[39m \u001b[43mget_mean_activations\u001b[49m\u001b[43m(\u001b[49m\u001b[43mmodel\u001b[49m\u001b[43m,\u001b[49m\u001b[43m \u001b[49m\u001b[43mde_prompts\u001b[49m\u001b[43m,\u001b[49m\u001b[43m \u001b[49m\u001b[43mbatch_size\u001b[49m\u001b[38;5;241;43m=\u001b[39;49m\u001b[43mbatch_size\u001b[49m\u001b[43m)\u001b[49m\n",
      "File \u001b[0;32m/dlabscratch1/veselovs/projects/llm-latent-language/generalization/exp_tools.py:154\u001b[0m, in \u001b[0;36mget_mean_activations\u001b[0;34m(nn_model, prompts_str, batch_size)\u001b[0m\n\u001b[1;32m    152\u001b[0m acts \u001b[38;5;241m=\u001b[39m []\n\u001b[1;32m    153\u001b[0m \u001b[38;5;28;01mfor\u001b[39;00m batch \u001b[38;5;129;01min\u001b[39;00m tqdm(dataloader):\n\u001b[0;32m--> 154\u001b[0m     acts\u001b[38;5;241m.\u001b[39mappend(\u001b[43mcollect_activations\u001b[49m\u001b[43m(\u001b[49m\u001b[43mnn_model\u001b[49m\u001b[43m,\u001b[49m\u001b[43m \u001b[49m\u001b[43mbatch\u001b[49m\u001b[43m)\u001b[49m)\n\u001b[1;32m    155\u001b[0m mean_activations \u001b[38;5;241m=\u001b[39m []\n\u001b[1;32m    156\u001b[0m num_layers \u001b[38;5;241m=\u001b[39m get_num_layers(nn_model)\n",
      "File \u001b[0;32m/dlabscratch1/veselovs/.conda/envs/llm-lang/lib/python3.11/site-packages/torch/utils/_contextlib.py:115\u001b[0m, in \u001b[0;36mcontext_decorator.<locals>.decorate_context\u001b[0;34m(*args, **kwargs)\u001b[0m\n\u001b[1;32m    112\u001b[0m \u001b[38;5;129m@functools\u001b[39m\u001b[38;5;241m.\u001b[39mwraps(func)\n\u001b[1;32m    113\u001b[0m \u001b[38;5;28;01mdef\u001b[39;00m \u001b[38;5;21mdecorate_context\u001b[39m(\u001b[38;5;241m*\u001b[39margs, \u001b[38;5;241m*\u001b[39m\u001b[38;5;241m*\u001b[39mkwargs):\n\u001b[1;32m    114\u001b[0m     \u001b[38;5;28;01mwith\u001b[39;00m ctx_factory():\n\u001b[0;32m--> 115\u001b[0m         \u001b[38;5;28;01mreturn\u001b[39;00m \u001b[43mfunc\u001b[49m\u001b[43m(\u001b[49m\u001b[38;5;241;43m*\u001b[39;49m\u001b[43margs\u001b[49m\u001b[43m,\u001b[49m\u001b[43m \u001b[49m\u001b[38;5;241;43m*\u001b[39;49m\u001b[38;5;241;43m*\u001b[39;49m\u001b[43mkwargs\u001b[49m\u001b[43m)\u001b[49m\n",
      "File \u001b[0;32m/dlabscratch1/veselovs/projects/llm-latent-language/generalization/nnsight_utils.py:158\u001b[0m, in \u001b[0;36mcollect_activations\u001b[0;34m(nn_model, prompts, layers, get_activations, remote, idx)\u001b[0m\n\u001b[1;32m    156\u001b[0m     layers \u001b[38;5;241m=\u001b[39m \u001b[38;5;28mrange\u001b[39m(get_num_layers(nn_model))\n\u001b[1;32m    157\u001b[0m \u001b[38;5;66;03m# Collect the hidden states of the last token of each prompt at each layer\u001b[39;00m\n\u001b[0;32m--> 158\u001b[0m \u001b[43m\u001b[49m\u001b[38;5;28;43;01mwith\u001b[39;49;00m\u001b[43m \u001b[49m\u001b[43mnn_model\u001b[49m\u001b[38;5;241;43m.\u001b[39;49m\u001b[43mtrace\u001b[49m\u001b[43m(\u001b[49m\u001b[43mprompts\u001b[49m\u001b[43m,\u001b[49m\u001b[43m \u001b[49m\u001b[43mremote\u001b[49m\u001b[38;5;241;43m=\u001b[39;49m\u001b[43mremote\u001b[49m\u001b[43m)\u001b[49m\u001b[43m:\u001b[49m\n\u001b[1;32m    159\u001b[0m \u001b[43m    \u001b[49m\u001b[43mhiddens\u001b[49m\u001b[43m \u001b[49m\u001b[38;5;241;43m=\u001b[39;49m\u001b[43m \u001b[49m\u001b[43m[\u001b[49m\n\u001b[1;32m    160\u001b[0m \u001b[43m        \u001b[49m\u001b[43mget_activations\u001b[49m\u001b[43m(\u001b[49m\u001b[43mnn_model\u001b[49m\u001b[43m,\u001b[49m\u001b[43m \u001b[49m\u001b[43mlayer\u001b[49m\u001b[43m)\u001b[49m\u001b[43m[\u001b[49m\n\u001b[1;32m    161\u001b[0m \u001b[43m            \u001b[49m\u001b[43mth\u001b[49m\u001b[38;5;241;43m.\u001b[39;49m\u001b[43marange\u001b[49m\u001b[43m(\u001b[49m\u001b[38;5;28;43mlen\u001b[39;49m\u001b[43m(\u001b[49m\u001b[43mtok_prompts\u001b[49m\u001b[38;5;241;43m.\u001b[39;49m\u001b[43minput_ids\u001b[49m\u001b[43m)\u001b[49m\u001b[43m)\u001b[49m\u001b[43m,\u001b[49m\n\u001b[0;32m   (...)\u001b[0m\n\u001b[1;32m    166\u001b[0m \u001b[43m        \u001b[49m\u001b[38;5;28;43;01mfor\u001b[39;49;00m\u001b[43m \u001b[49m\u001b[43mlayer\u001b[49m\u001b[43m \u001b[49m\u001b[38;5;129;43;01min\u001b[39;49;00m\u001b[43m \u001b[49m\u001b[43mlayers\u001b[49m\n\u001b[1;32m    167\u001b[0m \u001b[43m    \u001b[49m\u001b[43m]\u001b[49m\n\u001b[1;32m    168\u001b[0m \u001b[38;5;28;01mreturn\u001b[39;00m hiddens\n",
      "File \u001b[0;32m/dlabscratch1/veselovs/.conda/envs/llm-lang/lib/python3.11/site-packages/nnsight/contexts/Runner.py:49\u001b[0m, in \u001b[0;36mRunner.__exit__\u001b[0;34m(self, exc_type, exc_val, exc_tb)\u001b[0m\n\u001b[1;32m     47\u001b[0m     \u001b[38;5;28mself\u001b[39m\u001b[38;5;241m.\u001b[39m_graph \u001b[38;5;241m=\u001b[39m \u001b[38;5;28;01mNone\u001b[39;00m\n\u001b[1;32m     48\u001b[0m \u001b[38;5;28;01melse\u001b[39;00m:\n\u001b[0;32m---> 49\u001b[0m     \u001b[38;5;28;43msuper\u001b[39;49m\u001b[43m(\u001b[49m\u001b[43m)\u001b[49m\u001b[38;5;241;43m.\u001b[39;49m\u001b[38;5;21;43m__exit__\u001b[39;49m\u001b[43m(\u001b[49m\u001b[43mexc_type\u001b[49m\u001b[43m,\u001b[49m\u001b[43m \u001b[49m\u001b[43mexc_val\u001b[49m\u001b[43m,\u001b[49m\u001b[43m \u001b[49m\u001b[43mexc_tb\u001b[49m\u001b[43m)\u001b[49m\n",
      "File \u001b[0;32m/dlabscratch1/veselovs/.conda/envs/llm-lang/lib/python3.11/site-packages/nnsight/contexts/Tracer.py:69\u001b[0m, in \u001b[0;36mTracer.__exit__\u001b[0;34m(self, exc_type, exc_val, exc_tb)\u001b[0m\n\u001b[1;32m     66\u001b[0m \u001b[38;5;28;01mif\u001b[39;00m \u001b[38;5;28misinstance\u001b[39m(exc_val, \u001b[38;5;167;01mBaseException\u001b[39;00m):\n\u001b[1;32m     67\u001b[0m     \u001b[38;5;28;01mraise\u001b[39;00m exc_val\n\u001b[0;32m---> 69\u001b[0m output \u001b[38;5;241m=\u001b[39m \u001b[38;5;28;43mself\u001b[39;49m\u001b[38;5;241;43m.\u001b[39;49m\u001b[43m_model\u001b[49m\u001b[38;5;241;43m.\u001b[39;49m\u001b[43minterleave\u001b[49m\u001b[43m(\u001b[49m\n\u001b[1;32m     70\u001b[0m \u001b[43m    \u001b[49m\u001b[38;5;28;43mself\u001b[39;49m\u001b[38;5;241;43m.\u001b[39;49m\u001b[43m_model\u001b[49m\u001b[38;5;241;43m.\u001b[39;49m\u001b[43m_execute\u001b[49m\u001b[43m,\u001b[49m\n\u001b[1;32m     71\u001b[0m \u001b[43m    \u001b[49m\u001b[38;5;28;43mself\u001b[39;49m\u001b[38;5;241;43m.\u001b[39;49m\u001b[43m_graph\u001b[49m\u001b[43m,\u001b[49m\n\u001b[1;32m     72\u001b[0m \u001b[43m    \u001b[49m\u001b[38;5;241;43m*\u001b[39;49m\u001b[38;5;28;43mself\u001b[39;49m\u001b[38;5;241;43m.\u001b[39;49m\u001b[43m_batched_input\u001b[49m\u001b[43m,\u001b[49m\n\u001b[1;32m     73\u001b[0m \u001b[43m    \u001b[49m\u001b[38;5;241;43m*\u001b[39;49m\u001b[38;5;241;43m*\u001b[39;49m\u001b[38;5;28;43mself\u001b[39;49m\u001b[38;5;241;43m.\u001b[39;49m\u001b[43m_kwargs\u001b[49m\u001b[43m,\u001b[49m\n\u001b[1;32m     74\u001b[0m \u001b[43m\u001b[49m\u001b[43m)\u001b[49m\n\u001b[1;32m     76\u001b[0m \u001b[38;5;28mself\u001b[39m\u001b[38;5;241m.\u001b[39m_graph\u001b[38;5;241m.\u001b[39mtracing \u001b[38;5;241m=\u001b[39m \u001b[38;5;28;01mFalse\u001b[39;00m\n\u001b[1;32m     77\u001b[0m \u001b[38;5;28mself\u001b[39m\u001b[38;5;241m.\u001b[39m_graph \u001b[38;5;241m=\u001b[39m \u001b[38;5;28;01mNone\u001b[39;00m\n",
      "File \u001b[0;32m/dlabscratch1/veselovs/.conda/envs/llm-lang/lib/python3.11/site-packages/nnsight/models/NNsightModel.py:245\u001b[0m, in \u001b[0;36mNNsight.interleave\u001b[0;34m(self, fn, intervention_graph, *inputs, **kwargs)\u001b[0m\n\u001b[1;32m    241\u001b[0m inputs, total_batch_size \u001b[38;5;241m=\u001b[39m \u001b[38;5;28mself\u001b[39m\u001b[38;5;241m.\u001b[39m_prepare_inputs(\u001b[38;5;241m*\u001b[39minputs)\n\u001b[1;32m    243\u001b[0m intervention_handler \u001b[38;5;241m=\u001b[39m InterventionHandler(intervention_graph, total_batch_size)\n\u001b[0;32m--> 245\u001b[0m \u001b[43m\u001b[49m\u001b[38;5;28;43;01mwith\u001b[39;49;00m\u001b[43m \u001b[49m\u001b[43mHookHandler\u001b[49m\u001b[43m(\u001b[49m\n\u001b[1;32m    246\u001b[0m \u001b[43m    \u001b[49m\u001b[38;5;28;43mself\u001b[39;49m\u001b[38;5;241;43m.\u001b[39;49m\u001b[43m_model\u001b[49m\u001b[43m,\u001b[49m\n\u001b[1;32m    247\u001b[0m \u001b[43m    \u001b[49m\u001b[38;5;28;43mlist\u001b[39;49m\u001b[43m(\u001b[49m\u001b[43mintervention_graph\u001b[49m\u001b[38;5;241;43m.\u001b[39;49m\u001b[43margument_node_names\u001b[49m\u001b[38;5;241;43m.\u001b[39;49m\u001b[43mkeys\u001b[49m\u001b[43m(\u001b[49m\u001b[43m)\u001b[49m\u001b[43m)\u001b[49m\u001b[43m,\u001b[49m\n\u001b[1;32m    248\u001b[0m \u001b[43m    \u001b[49m\u001b[43minput_hook\u001b[49m\u001b[38;5;241;43m=\u001b[39;49m\u001b[38;5;28;43;01mlambda\u001b[39;49;00m\u001b[43m \u001b[49m\u001b[43mactivations\u001b[49m\u001b[43m,\u001b[49m\u001b[43m \u001b[49m\u001b[43mmodule_path\u001b[49m\u001b[43m:\u001b[49m\u001b[43m \u001b[49m\u001b[43mintervene\u001b[49m\u001b[43m(\u001b[49m\n\u001b[1;32m    249\u001b[0m \u001b[43m        \u001b[49m\u001b[43mactivations\u001b[49m\u001b[43m,\u001b[49m\u001b[43m \u001b[49m\u001b[43mmodule_path\u001b[49m\u001b[43m,\u001b[49m\u001b[43m \u001b[49m\u001b[38;5;124;43m\"\u001b[39;49m\u001b[38;5;124;43minput\u001b[39;49m\u001b[38;5;124;43m\"\u001b[39;49m\u001b[43m,\u001b[49m\u001b[43m \u001b[49m\u001b[43mintervention_handler\u001b[49m\n\u001b[1;32m    250\u001b[0m \u001b[43m    \u001b[49m\u001b[43m)\u001b[49m\u001b[43m,\u001b[49m\n\u001b[1;32m    251\u001b[0m \u001b[43m    \u001b[49m\u001b[43moutput_hook\u001b[49m\u001b[38;5;241;43m=\u001b[39;49m\u001b[38;5;28;43;01mlambda\u001b[39;49;00m\u001b[43m \u001b[49m\u001b[43mactivations\u001b[49m\u001b[43m,\u001b[49m\u001b[43m \u001b[49m\u001b[43mmodule_path\u001b[49m\u001b[43m:\u001b[49m\u001b[43m \u001b[49m\u001b[43mintervene\u001b[49m\u001b[43m(\u001b[49m\n\u001b[1;32m    252\u001b[0m \u001b[43m        \u001b[49m\u001b[43mactivations\u001b[49m\u001b[43m,\u001b[49m\u001b[43m \u001b[49m\u001b[43mmodule_path\u001b[49m\u001b[43m,\u001b[49m\u001b[43m \u001b[49m\u001b[38;5;124;43m\"\u001b[39;49m\u001b[38;5;124;43moutput\u001b[39;49m\u001b[38;5;124;43m\"\u001b[39;49m\u001b[43m,\u001b[49m\u001b[43m \u001b[49m\u001b[43mintervention_handler\u001b[49m\n\u001b[1;32m    253\u001b[0m \u001b[43m    \u001b[49m\u001b[43m)\u001b[49m\u001b[43m,\u001b[49m\n\u001b[1;32m    254\u001b[0m \u001b[43m\u001b[49m\u001b[43m)\u001b[49m\u001b[43m:\u001b[49m\n\u001b[1;32m    255\u001b[0m \u001b[43m    \u001b[49m\u001b[43moutput\u001b[49m\u001b[43m \u001b[49m\u001b[38;5;241;43m=\u001b[39;49m\u001b[43m \u001b[49m\u001b[43mfn\u001b[49m\u001b[43m(\u001b[49m\u001b[38;5;241;43m*\u001b[39;49m\u001b[43minputs\u001b[49m\u001b[43m,\u001b[49m\u001b[43m \u001b[49m\u001b[38;5;241;43m*\u001b[39;49m\u001b[38;5;241;43m*\u001b[39;49m\u001b[43mkwargs\u001b[49m\u001b[43m)\u001b[49m\n\u001b[1;32m    257\u001b[0m logger\u001b[38;5;241m.\u001b[39minfo(\u001b[38;5;124mf\u001b[39m\u001b[38;5;124m\"\u001b[39m\u001b[38;5;124mCompleted `\u001b[39m\u001b[38;5;132;01m{\u001b[39;00m\u001b[38;5;28mself\u001b[39m\u001b[38;5;241m.\u001b[39m_model_key\u001b[38;5;132;01m}\u001b[39;00m\u001b[38;5;124m`\u001b[39m\u001b[38;5;124m\"\u001b[39m)\n",
      "File \u001b[0;32m/dlabscratch1/veselovs/.conda/envs/llm-lang/lib/python3.11/site-packages/nnsight/intervention.py:450\u001b[0m, in \u001b[0;36mHookHandler.__exit__\u001b[0;34m(self, exc_type, exc_val, exc_tb)\u001b[0m\n\u001b[1;32m    447\u001b[0m     handle\u001b[38;5;241m.\u001b[39mremove()\n\u001b[1;32m    449\u001b[0m \u001b[38;5;28;01mif\u001b[39;00m \u001b[38;5;28misinstance\u001b[39m(exc_val, \u001b[38;5;167;01mException\u001b[39;00m):\n\u001b[0;32m--> 450\u001b[0m     \u001b[38;5;28;01mraise\u001b[39;00m exc_val\n",
      "File \u001b[0;32m/dlabscratch1/veselovs/.conda/envs/llm-lang/lib/python3.11/site-packages/nnsight/models/NNsightModel.py:255\u001b[0m, in \u001b[0;36mNNsight.interleave\u001b[0;34m(self, fn, intervention_graph, *inputs, **kwargs)\u001b[0m\n\u001b[1;32m    243\u001b[0m intervention_handler \u001b[38;5;241m=\u001b[39m InterventionHandler(intervention_graph, total_batch_size)\n\u001b[1;32m    245\u001b[0m \u001b[38;5;28;01mwith\u001b[39;00m HookHandler(\n\u001b[1;32m    246\u001b[0m     \u001b[38;5;28mself\u001b[39m\u001b[38;5;241m.\u001b[39m_model,\n\u001b[1;32m    247\u001b[0m     \u001b[38;5;28mlist\u001b[39m(intervention_graph\u001b[38;5;241m.\u001b[39margument_node_names\u001b[38;5;241m.\u001b[39mkeys()),\n\u001b[0;32m   (...)\u001b[0m\n\u001b[1;32m    253\u001b[0m     ),\n\u001b[1;32m    254\u001b[0m ):\n\u001b[0;32m--> 255\u001b[0m     output \u001b[38;5;241m=\u001b[39m \u001b[43mfn\u001b[49m\u001b[43m(\u001b[49m\u001b[38;5;241;43m*\u001b[39;49m\u001b[43minputs\u001b[49m\u001b[43m,\u001b[49m\u001b[43m \u001b[49m\u001b[38;5;241;43m*\u001b[39;49m\u001b[38;5;241;43m*\u001b[39;49m\u001b[43mkwargs\u001b[49m\u001b[43m)\u001b[49m\n\u001b[1;32m    257\u001b[0m logger\u001b[38;5;241m.\u001b[39minfo(\u001b[38;5;124mf\u001b[39m\u001b[38;5;124m\"\u001b[39m\u001b[38;5;124mCompleted `\u001b[39m\u001b[38;5;132;01m{\u001b[39;00m\u001b[38;5;28mself\u001b[39m\u001b[38;5;241m.\u001b[39m_model_key\u001b[38;5;132;01m}\u001b[39;00m\u001b[38;5;124m`\u001b[39m\u001b[38;5;124m\"\u001b[39m)\n\u001b[1;32m    259\u001b[0m \u001b[38;5;66;03m# gc.collect()\u001b[39;00m\n\u001b[1;32m    260\u001b[0m \u001b[38;5;66;03m# torch.cuda.empty_cache()\u001b[39;00m\n",
      "File \u001b[0;32m/dlabscratch1/veselovs/.conda/envs/llm-lang/lib/python3.11/site-packages/nnsight/models/mixins/Generation.py:21\u001b[0m, in \u001b[0;36mGenerationMixin._execute\u001b[0;34m(self, prepared_inputs, generate, *args, **kwargs)\u001b[0m\n\u001b[1;32m     17\u001b[0m \u001b[38;5;28;01mif\u001b[39;00m generate:\n\u001b[1;32m     19\u001b[0m     \u001b[38;5;28;01mreturn\u001b[39;00m \u001b[38;5;28mself\u001b[39m\u001b[38;5;241m.\u001b[39m_execute_generate(prepared_inputs, \u001b[38;5;241m*\u001b[39margs, \u001b[38;5;241m*\u001b[39m\u001b[38;5;241m*\u001b[39mkwargs)\n\u001b[0;32m---> 21\u001b[0m \u001b[38;5;28;01mreturn\u001b[39;00m \u001b[38;5;28;43mself\u001b[39;49m\u001b[38;5;241;43m.\u001b[39;49m\u001b[43m_execute_forward\u001b[49m\u001b[43m(\u001b[49m\u001b[43mprepared_inputs\u001b[49m\u001b[43m,\u001b[49m\u001b[43m \u001b[49m\u001b[38;5;241;43m*\u001b[39;49m\u001b[43margs\u001b[49m\u001b[43m,\u001b[49m\u001b[43m \u001b[49m\u001b[38;5;241;43m*\u001b[39;49m\u001b[38;5;241;43m*\u001b[39;49m\u001b[43mkwargs\u001b[49m\u001b[43m)\u001b[49m\n",
      "File \u001b[0;32m/dlabscratch1/veselovs/.conda/envs/llm-lang/lib/python3.11/site-packages/nnsight/models/LanguageModel.py:291\u001b[0m, in \u001b[0;36mLanguageModel._execute_forward\u001b[0;34m(self, prepared_inputs, *args, **kwargs)\u001b[0m\n\u001b[1;32m    287\u001b[0m \u001b[38;5;28;01mdef\u001b[39;00m \u001b[38;5;21m_execute_forward\u001b[39m(\u001b[38;5;28mself\u001b[39m, prepared_inputs: Any, \u001b[38;5;241m*\u001b[39margs, \u001b[38;5;241m*\u001b[39m\u001b[38;5;241m*\u001b[39mkwargs):\n\u001b[1;32m    289\u001b[0m     device \u001b[38;5;241m=\u001b[39m \u001b[38;5;28mnext\u001b[39m(\u001b[38;5;28mself\u001b[39m\u001b[38;5;241m.\u001b[39m_model\u001b[38;5;241m.\u001b[39mparameters())\u001b[38;5;241m.\u001b[39mdevice\n\u001b[0;32m--> 291\u001b[0m     \u001b[38;5;28;01mreturn\u001b[39;00m \u001b[38;5;28;43mself\u001b[39;49m\u001b[38;5;241;43m.\u001b[39;49m\u001b[43m_model\u001b[49m\u001b[43m(\u001b[49m\n\u001b[1;32m    292\u001b[0m \u001b[43m        \u001b[49m\u001b[38;5;241;43m*\u001b[39;49m\u001b[43margs\u001b[49m\u001b[43m,\u001b[49m\n\u001b[1;32m    293\u001b[0m \u001b[43m        \u001b[49m\u001b[38;5;241;43m*\u001b[39;49m\u001b[38;5;241;43m*\u001b[39;49m\u001b[43mprepared_inputs\u001b[49m\u001b[38;5;241;43m.\u001b[39;49m\u001b[43mto\u001b[49m\u001b[43m(\u001b[49m\u001b[43mdevice\u001b[49m\u001b[43m)\u001b[49m\u001b[43m,\u001b[49m\n\u001b[1;32m    294\u001b[0m \u001b[43m        \u001b[49m\u001b[38;5;241;43m*\u001b[39;49m\u001b[38;5;241;43m*\u001b[39;49m\u001b[43mkwargs\u001b[49m\u001b[43m,\u001b[49m\n\u001b[1;32m    295\u001b[0m \u001b[43m    \u001b[49m\u001b[43m)\u001b[49m\n",
      "File \u001b[0;32m/dlabscratch1/veselovs/.conda/envs/llm-lang/lib/python3.11/site-packages/torch/nn/modules/module.py:1532\u001b[0m, in \u001b[0;36mModule._wrapped_call_impl\u001b[0;34m(self, *args, **kwargs)\u001b[0m\n\u001b[1;32m   1530\u001b[0m     \u001b[38;5;28;01mreturn\u001b[39;00m \u001b[38;5;28mself\u001b[39m\u001b[38;5;241m.\u001b[39m_compiled_call_impl(\u001b[38;5;241m*\u001b[39margs, \u001b[38;5;241m*\u001b[39m\u001b[38;5;241m*\u001b[39mkwargs)  \u001b[38;5;66;03m# type: ignore[misc]\u001b[39;00m\n\u001b[1;32m   1531\u001b[0m \u001b[38;5;28;01melse\u001b[39;00m:\n\u001b[0;32m-> 1532\u001b[0m     \u001b[38;5;28;01mreturn\u001b[39;00m \u001b[38;5;28;43mself\u001b[39;49m\u001b[38;5;241;43m.\u001b[39;49m\u001b[43m_call_impl\u001b[49m\u001b[43m(\u001b[49m\u001b[38;5;241;43m*\u001b[39;49m\u001b[43margs\u001b[49m\u001b[43m,\u001b[49m\u001b[43m \u001b[49m\u001b[38;5;241;43m*\u001b[39;49m\u001b[38;5;241;43m*\u001b[39;49m\u001b[43mkwargs\u001b[49m\u001b[43m)\u001b[49m\n",
      "File \u001b[0;32m/dlabscratch1/veselovs/.conda/envs/llm-lang/lib/python3.11/site-packages/torch/nn/modules/module.py:1582\u001b[0m, in \u001b[0;36mModule._call_impl\u001b[0;34m(self, *args, **kwargs)\u001b[0m\n\u001b[1;32m   1579\u001b[0m     bw_hook \u001b[38;5;241m=\u001b[39m hooks\u001b[38;5;241m.\u001b[39mBackwardHook(\u001b[38;5;28mself\u001b[39m, full_backward_hooks, backward_pre_hooks)\n\u001b[1;32m   1580\u001b[0m     args \u001b[38;5;241m=\u001b[39m bw_hook\u001b[38;5;241m.\u001b[39msetup_input_hook(args)\n\u001b[0;32m-> 1582\u001b[0m result \u001b[38;5;241m=\u001b[39m \u001b[43mforward_call\u001b[49m\u001b[43m(\u001b[49m\u001b[38;5;241;43m*\u001b[39;49m\u001b[43margs\u001b[49m\u001b[43m,\u001b[49m\u001b[43m \u001b[49m\u001b[38;5;241;43m*\u001b[39;49m\u001b[38;5;241;43m*\u001b[39;49m\u001b[43mkwargs\u001b[49m\u001b[43m)\u001b[49m\n\u001b[1;32m   1583\u001b[0m \u001b[38;5;28;01mif\u001b[39;00m _global_forward_hooks \u001b[38;5;129;01mor\u001b[39;00m \u001b[38;5;28mself\u001b[39m\u001b[38;5;241m.\u001b[39m_forward_hooks:\n\u001b[1;32m   1584\u001b[0m     \u001b[38;5;28;01mfor\u001b[39;00m hook_id, hook \u001b[38;5;129;01min\u001b[39;00m (\n\u001b[1;32m   1585\u001b[0m         \u001b[38;5;241m*\u001b[39m_global_forward_hooks\u001b[38;5;241m.\u001b[39mitems(),\n\u001b[1;32m   1586\u001b[0m         \u001b[38;5;241m*\u001b[39m\u001b[38;5;28mself\u001b[39m\u001b[38;5;241m.\u001b[39m_forward_hooks\u001b[38;5;241m.\u001b[39mitems(),\n\u001b[1;32m   1587\u001b[0m     ):\n\u001b[1;32m   1588\u001b[0m         \u001b[38;5;66;03m# mark that always called hook is run\u001b[39;00m\n",
      "File \u001b[0;32m/dlabscratch1/veselovs/.conda/envs/llm-lang/lib/python3.11/site-packages/accelerate/hooks.py:166\u001b[0m, in \u001b[0;36madd_hook_to_module.<locals>.new_forward\u001b[0;34m(module, *args, **kwargs)\u001b[0m\n\u001b[1;32m    164\u001b[0m         output \u001b[38;5;241m=\u001b[39m module\u001b[38;5;241m.\u001b[39m_old_forward(\u001b[38;5;241m*\u001b[39margs, \u001b[38;5;241m*\u001b[39m\u001b[38;5;241m*\u001b[39mkwargs)\n\u001b[1;32m    165\u001b[0m \u001b[38;5;28;01melse\u001b[39;00m:\n\u001b[0;32m--> 166\u001b[0m     output \u001b[38;5;241m=\u001b[39m \u001b[43mmodule\u001b[49m\u001b[38;5;241;43m.\u001b[39;49m\u001b[43m_old_forward\u001b[49m\u001b[43m(\u001b[49m\u001b[38;5;241;43m*\u001b[39;49m\u001b[43margs\u001b[49m\u001b[43m,\u001b[49m\u001b[43m \u001b[49m\u001b[38;5;241;43m*\u001b[39;49m\u001b[38;5;241;43m*\u001b[39;49m\u001b[43mkwargs\u001b[49m\u001b[43m)\u001b[49m\n\u001b[1;32m    167\u001b[0m \u001b[38;5;28;01mreturn\u001b[39;00m module\u001b[38;5;241m.\u001b[39m_hf_hook\u001b[38;5;241m.\u001b[39mpost_forward(module, output)\n",
      "File \u001b[0;32m/dlabscratch1/veselovs/.conda/envs/llm-lang/lib/python3.11/site-packages/transformers/models/llama/modeling_llama.py:1164\u001b[0m, in \u001b[0;36mLlamaForCausalLM.forward\u001b[0;34m(self, input_ids, attention_mask, position_ids, past_key_values, inputs_embeds, labels, use_cache, output_attentions, output_hidden_states, return_dict, cache_position)\u001b[0m\n\u001b[1;32m   1161\u001b[0m return_dict \u001b[38;5;241m=\u001b[39m return_dict \u001b[38;5;28;01mif\u001b[39;00m return_dict \u001b[38;5;129;01mis\u001b[39;00m \u001b[38;5;129;01mnot\u001b[39;00m \u001b[38;5;28;01mNone\u001b[39;00m \u001b[38;5;28;01melse\u001b[39;00m \u001b[38;5;28mself\u001b[39m\u001b[38;5;241m.\u001b[39mconfig\u001b[38;5;241m.\u001b[39muse_return_dict\n\u001b[1;32m   1163\u001b[0m \u001b[38;5;66;03m# decoder outputs consists of (dec_features, layer_state, dec_hidden, dec_attn)\u001b[39;00m\n\u001b[0;32m-> 1164\u001b[0m outputs \u001b[38;5;241m=\u001b[39m \u001b[38;5;28;43mself\u001b[39;49m\u001b[38;5;241;43m.\u001b[39;49m\u001b[43mmodel\u001b[49m\u001b[43m(\u001b[49m\n\u001b[1;32m   1165\u001b[0m \u001b[43m    \u001b[49m\u001b[43minput_ids\u001b[49m\u001b[38;5;241;43m=\u001b[39;49m\u001b[43minput_ids\u001b[49m\u001b[43m,\u001b[49m\n\u001b[1;32m   1166\u001b[0m \u001b[43m    \u001b[49m\u001b[43mattention_mask\u001b[49m\u001b[38;5;241;43m=\u001b[39;49m\u001b[43mattention_mask\u001b[49m\u001b[43m,\u001b[49m\n\u001b[1;32m   1167\u001b[0m \u001b[43m    \u001b[49m\u001b[43mposition_ids\u001b[49m\u001b[38;5;241;43m=\u001b[39;49m\u001b[43mposition_ids\u001b[49m\u001b[43m,\u001b[49m\n\u001b[1;32m   1168\u001b[0m \u001b[43m    \u001b[49m\u001b[43mpast_key_values\u001b[49m\u001b[38;5;241;43m=\u001b[39;49m\u001b[43mpast_key_values\u001b[49m\u001b[43m,\u001b[49m\n\u001b[1;32m   1169\u001b[0m \u001b[43m    \u001b[49m\u001b[43minputs_embeds\u001b[49m\u001b[38;5;241;43m=\u001b[39;49m\u001b[43minputs_embeds\u001b[49m\u001b[43m,\u001b[49m\n\u001b[1;32m   1170\u001b[0m \u001b[43m    \u001b[49m\u001b[43muse_cache\u001b[49m\u001b[38;5;241;43m=\u001b[39;49m\u001b[43muse_cache\u001b[49m\u001b[43m,\u001b[49m\n\u001b[1;32m   1171\u001b[0m \u001b[43m    \u001b[49m\u001b[43moutput_attentions\u001b[49m\u001b[38;5;241;43m=\u001b[39;49m\u001b[43moutput_attentions\u001b[49m\u001b[43m,\u001b[49m\n\u001b[1;32m   1172\u001b[0m \u001b[43m    \u001b[49m\u001b[43moutput_hidden_states\u001b[49m\u001b[38;5;241;43m=\u001b[39;49m\u001b[43moutput_hidden_states\u001b[49m\u001b[43m,\u001b[49m\n\u001b[1;32m   1173\u001b[0m \u001b[43m    \u001b[49m\u001b[43mreturn_dict\u001b[49m\u001b[38;5;241;43m=\u001b[39;49m\u001b[43mreturn_dict\u001b[49m\u001b[43m,\u001b[49m\n\u001b[1;32m   1174\u001b[0m \u001b[43m    \u001b[49m\u001b[43mcache_position\u001b[49m\u001b[38;5;241;43m=\u001b[39;49m\u001b[43mcache_position\u001b[49m\u001b[43m,\u001b[49m\n\u001b[1;32m   1175\u001b[0m \u001b[43m\u001b[49m\u001b[43m)\u001b[49m\n\u001b[1;32m   1177\u001b[0m hidden_states \u001b[38;5;241m=\u001b[39m outputs[\u001b[38;5;241m0\u001b[39m]\n\u001b[1;32m   1178\u001b[0m \u001b[38;5;28;01mif\u001b[39;00m \u001b[38;5;28mself\u001b[39m\u001b[38;5;241m.\u001b[39mconfig\u001b[38;5;241m.\u001b[39mpretraining_tp \u001b[38;5;241m>\u001b[39m \u001b[38;5;241m1\u001b[39m:\n",
      "File \u001b[0;32m/dlabscratch1/veselovs/.conda/envs/llm-lang/lib/python3.11/site-packages/torch/nn/modules/module.py:1532\u001b[0m, in \u001b[0;36mModule._wrapped_call_impl\u001b[0;34m(self, *args, **kwargs)\u001b[0m\n\u001b[1;32m   1530\u001b[0m     \u001b[38;5;28;01mreturn\u001b[39;00m \u001b[38;5;28mself\u001b[39m\u001b[38;5;241m.\u001b[39m_compiled_call_impl(\u001b[38;5;241m*\u001b[39margs, \u001b[38;5;241m*\u001b[39m\u001b[38;5;241m*\u001b[39mkwargs)  \u001b[38;5;66;03m# type: ignore[misc]\u001b[39;00m\n\u001b[1;32m   1531\u001b[0m \u001b[38;5;28;01melse\u001b[39;00m:\n\u001b[0;32m-> 1532\u001b[0m     \u001b[38;5;28;01mreturn\u001b[39;00m \u001b[38;5;28;43mself\u001b[39;49m\u001b[38;5;241;43m.\u001b[39;49m\u001b[43m_call_impl\u001b[49m\u001b[43m(\u001b[49m\u001b[38;5;241;43m*\u001b[39;49m\u001b[43margs\u001b[49m\u001b[43m,\u001b[49m\u001b[43m \u001b[49m\u001b[38;5;241;43m*\u001b[39;49m\u001b[38;5;241;43m*\u001b[39;49m\u001b[43mkwargs\u001b[49m\u001b[43m)\u001b[49m\n",
      "File \u001b[0;32m/dlabscratch1/veselovs/.conda/envs/llm-lang/lib/python3.11/site-packages/torch/nn/modules/module.py:1582\u001b[0m, in \u001b[0;36mModule._call_impl\u001b[0;34m(self, *args, **kwargs)\u001b[0m\n\u001b[1;32m   1579\u001b[0m     bw_hook \u001b[38;5;241m=\u001b[39m hooks\u001b[38;5;241m.\u001b[39mBackwardHook(\u001b[38;5;28mself\u001b[39m, full_backward_hooks, backward_pre_hooks)\n\u001b[1;32m   1580\u001b[0m     args \u001b[38;5;241m=\u001b[39m bw_hook\u001b[38;5;241m.\u001b[39msetup_input_hook(args)\n\u001b[0;32m-> 1582\u001b[0m result \u001b[38;5;241m=\u001b[39m \u001b[43mforward_call\u001b[49m\u001b[43m(\u001b[49m\u001b[38;5;241;43m*\u001b[39;49m\u001b[43margs\u001b[49m\u001b[43m,\u001b[49m\u001b[43m \u001b[49m\u001b[38;5;241;43m*\u001b[39;49m\u001b[38;5;241;43m*\u001b[39;49m\u001b[43mkwargs\u001b[49m\u001b[43m)\u001b[49m\n\u001b[1;32m   1583\u001b[0m \u001b[38;5;28;01mif\u001b[39;00m _global_forward_hooks \u001b[38;5;129;01mor\u001b[39;00m \u001b[38;5;28mself\u001b[39m\u001b[38;5;241m.\u001b[39m_forward_hooks:\n\u001b[1;32m   1584\u001b[0m     \u001b[38;5;28;01mfor\u001b[39;00m hook_id, hook \u001b[38;5;129;01min\u001b[39;00m (\n\u001b[1;32m   1585\u001b[0m         \u001b[38;5;241m*\u001b[39m_global_forward_hooks\u001b[38;5;241m.\u001b[39mitems(),\n\u001b[1;32m   1586\u001b[0m         \u001b[38;5;241m*\u001b[39m\u001b[38;5;28mself\u001b[39m\u001b[38;5;241m.\u001b[39m_forward_hooks\u001b[38;5;241m.\u001b[39mitems(),\n\u001b[1;32m   1587\u001b[0m     ):\n\u001b[1;32m   1588\u001b[0m         \u001b[38;5;66;03m# mark that always called hook is run\u001b[39;00m\n",
      "File \u001b[0;32m/dlabscratch1/veselovs/.conda/envs/llm-lang/lib/python3.11/site-packages/transformers/models/llama/modeling_llama.py:968\u001b[0m, in \u001b[0;36mLlamaModel.forward\u001b[0;34m(self, input_ids, attention_mask, position_ids, past_key_values, inputs_embeds, use_cache, output_attentions, output_hidden_states, return_dict, cache_position)\u001b[0m\n\u001b[1;32m    957\u001b[0m     layer_outputs \u001b[38;5;241m=\u001b[39m \u001b[38;5;28mself\u001b[39m\u001b[38;5;241m.\u001b[39m_gradient_checkpointing_func(\n\u001b[1;32m    958\u001b[0m         decoder_layer\u001b[38;5;241m.\u001b[39m\u001b[38;5;21m__call__\u001b[39m,\n\u001b[1;32m    959\u001b[0m         hidden_states,\n\u001b[0;32m   (...)\u001b[0m\n\u001b[1;32m    965\u001b[0m         cache_position,\n\u001b[1;32m    966\u001b[0m     )\n\u001b[1;32m    967\u001b[0m \u001b[38;5;28;01melse\u001b[39;00m:\n\u001b[0;32m--> 968\u001b[0m     layer_outputs \u001b[38;5;241m=\u001b[39m \u001b[43mdecoder_layer\u001b[49m\u001b[43m(\u001b[49m\n\u001b[1;32m    969\u001b[0m \u001b[43m        \u001b[49m\u001b[43mhidden_states\u001b[49m\u001b[43m,\u001b[49m\n\u001b[1;32m    970\u001b[0m \u001b[43m        \u001b[49m\u001b[43mattention_mask\u001b[49m\u001b[38;5;241;43m=\u001b[39;49m\u001b[43mcausal_mask\u001b[49m\u001b[43m,\u001b[49m\n\u001b[1;32m    971\u001b[0m \u001b[43m        \u001b[49m\u001b[43mposition_ids\u001b[49m\u001b[38;5;241;43m=\u001b[39;49m\u001b[43mposition_ids\u001b[49m\u001b[43m,\u001b[49m\n\u001b[1;32m    972\u001b[0m \u001b[43m        \u001b[49m\u001b[43mpast_key_value\u001b[49m\u001b[38;5;241;43m=\u001b[39;49m\u001b[43mpast_key_values\u001b[49m\u001b[43m,\u001b[49m\n\u001b[1;32m    973\u001b[0m \u001b[43m        \u001b[49m\u001b[43moutput_attentions\u001b[49m\u001b[38;5;241;43m=\u001b[39;49m\u001b[43moutput_attentions\u001b[49m\u001b[43m,\u001b[49m\n\u001b[1;32m    974\u001b[0m \u001b[43m        \u001b[49m\u001b[43muse_cache\u001b[49m\u001b[38;5;241;43m=\u001b[39;49m\u001b[43muse_cache\u001b[49m\u001b[43m,\u001b[49m\n\u001b[1;32m    975\u001b[0m \u001b[43m        \u001b[49m\u001b[43mcache_position\u001b[49m\u001b[38;5;241;43m=\u001b[39;49m\u001b[43mcache_position\u001b[49m\u001b[43m,\u001b[49m\n\u001b[1;32m    976\u001b[0m \u001b[43m    \u001b[49m\u001b[43m)\u001b[49m\n\u001b[1;32m    978\u001b[0m hidden_states \u001b[38;5;241m=\u001b[39m layer_outputs[\u001b[38;5;241m0\u001b[39m]\n\u001b[1;32m    980\u001b[0m \u001b[38;5;28;01mif\u001b[39;00m use_cache:\n",
      "File \u001b[0;32m/dlabscratch1/veselovs/.conda/envs/llm-lang/lib/python3.11/site-packages/torch/nn/modules/module.py:1532\u001b[0m, in \u001b[0;36mModule._wrapped_call_impl\u001b[0;34m(self, *args, **kwargs)\u001b[0m\n\u001b[1;32m   1530\u001b[0m     \u001b[38;5;28;01mreturn\u001b[39;00m \u001b[38;5;28mself\u001b[39m\u001b[38;5;241m.\u001b[39m_compiled_call_impl(\u001b[38;5;241m*\u001b[39margs, \u001b[38;5;241m*\u001b[39m\u001b[38;5;241m*\u001b[39mkwargs)  \u001b[38;5;66;03m# type: ignore[misc]\u001b[39;00m\n\u001b[1;32m   1531\u001b[0m \u001b[38;5;28;01melse\u001b[39;00m:\n\u001b[0;32m-> 1532\u001b[0m     \u001b[38;5;28;01mreturn\u001b[39;00m \u001b[38;5;28;43mself\u001b[39;49m\u001b[38;5;241;43m.\u001b[39;49m\u001b[43m_call_impl\u001b[49m\u001b[43m(\u001b[49m\u001b[38;5;241;43m*\u001b[39;49m\u001b[43margs\u001b[49m\u001b[43m,\u001b[49m\u001b[43m \u001b[49m\u001b[38;5;241;43m*\u001b[39;49m\u001b[38;5;241;43m*\u001b[39;49m\u001b[43mkwargs\u001b[49m\u001b[43m)\u001b[49m\n",
      "File \u001b[0;32m/dlabscratch1/veselovs/.conda/envs/llm-lang/lib/python3.11/site-packages/torch/nn/modules/module.py:1582\u001b[0m, in \u001b[0;36mModule._call_impl\u001b[0;34m(self, *args, **kwargs)\u001b[0m\n\u001b[1;32m   1579\u001b[0m     bw_hook \u001b[38;5;241m=\u001b[39m hooks\u001b[38;5;241m.\u001b[39mBackwardHook(\u001b[38;5;28mself\u001b[39m, full_backward_hooks, backward_pre_hooks)\n\u001b[1;32m   1580\u001b[0m     args \u001b[38;5;241m=\u001b[39m bw_hook\u001b[38;5;241m.\u001b[39msetup_input_hook(args)\n\u001b[0;32m-> 1582\u001b[0m result \u001b[38;5;241m=\u001b[39m \u001b[43mforward_call\u001b[49m\u001b[43m(\u001b[49m\u001b[38;5;241;43m*\u001b[39;49m\u001b[43margs\u001b[49m\u001b[43m,\u001b[49m\u001b[43m \u001b[49m\u001b[38;5;241;43m*\u001b[39;49m\u001b[38;5;241;43m*\u001b[39;49m\u001b[43mkwargs\u001b[49m\u001b[43m)\u001b[49m\n\u001b[1;32m   1583\u001b[0m \u001b[38;5;28;01mif\u001b[39;00m _global_forward_hooks \u001b[38;5;129;01mor\u001b[39;00m \u001b[38;5;28mself\u001b[39m\u001b[38;5;241m.\u001b[39m_forward_hooks:\n\u001b[1;32m   1584\u001b[0m     \u001b[38;5;28;01mfor\u001b[39;00m hook_id, hook \u001b[38;5;129;01min\u001b[39;00m (\n\u001b[1;32m   1585\u001b[0m         \u001b[38;5;241m*\u001b[39m_global_forward_hooks\u001b[38;5;241m.\u001b[39mitems(),\n\u001b[1;32m   1586\u001b[0m         \u001b[38;5;241m*\u001b[39m\u001b[38;5;28mself\u001b[39m\u001b[38;5;241m.\u001b[39m_forward_hooks\u001b[38;5;241m.\u001b[39mitems(),\n\u001b[1;32m   1587\u001b[0m     ):\n\u001b[1;32m   1588\u001b[0m         \u001b[38;5;66;03m# mark that always called hook is run\u001b[39;00m\n",
      "File \u001b[0;32m/dlabscratch1/veselovs/.conda/envs/llm-lang/lib/python3.11/site-packages/accelerate/hooks.py:166\u001b[0m, in \u001b[0;36madd_hook_to_module.<locals>.new_forward\u001b[0;34m(module, *args, **kwargs)\u001b[0m\n\u001b[1;32m    164\u001b[0m         output \u001b[38;5;241m=\u001b[39m module\u001b[38;5;241m.\u001b[39m_old_forward(\u001b[38;5;241m*\u001b[39margs, \u001b[38;5;241m*\u001b[39m\u001b[38;5;241m*\u001b[39mkwargs)\n\u001b[1;32m    165\u001b[0m \u001b[38;5;28;01melse\u001b[39;00m:\n\u001b[0;32m--> 166\u001b[0m     output \u001b[38;5;241m=\u001b[39m \u001b[43mmodule\u001b[49m\u001b[38;5;241;43m.\u001b[39;49m\u001b[43m_old_forward\u001b[49m\u001b[43m(\u001b[49m\u001b[38;5;241;43m*\u001b[39;49m\u001b[43margs\u001b[49m\u001b[43m,\u001b[49m\u001b[43m \u001b[49m\u001b[38;5;241;43m*\u001b[39;49m\u001b[38;5;241;43m*\u001b[39;49m\u001b[43mkwargs\u001b[49m\u001b[43m)\u001b[49m\n\u001b[1;32m    167\u001b[0m \u001b[38;5;28;01mreturn\u001b[39;00m module\u001b[38;5;241m.\u001b[39m_hf_hook\u001b[38;5;241m.\u001b[39mpost_forward(module, output)\n",
      "File \u001b[0;32m/dlabscratch1/veselovs/.conda/envs/llm-lang/lib/python3.11/site-packages/transformers/models/llama/modeling_llama.py:726\u001b[0m, in \u001b[0;36mLlamaDecoderLayer.forward\u001b[0;34m(self, hidden_states, attention_mask, position_ids, past_key_value, output_attentions, use_cache, cache_position)\u001b[0m\n\u001b[1;32m    724\u001b[0m \u001b[38;5;66;03m# Fully Connected\u001b[39;00m\n\u001b[1;32m    725\u001b[0m residual \u001b[38;5;241m=\u001b[39m hidden_states\n\u001b[0;32m--> 726\u001b[0m hidden_states \u001b[38;5;241m=\u001b[39m \u001b[38;5;28;43mself\u001b[39;49m\u001b[38;5;241;43m.\u001b[39;49m\u001b[43mpost_attention_layernorm\u001b[49m\u001b[43m(\u001b[49m\u001b[43mhidden_states\u001b[49m\u001b[43m)\u001b[49m\n\u001b[1;32m    727\u001b[0m hidden_states \u001b[38;5;241m=\u001b[39m \u001b[38;5;28mself\u001b[39m\u001b[38;5;241m.\u001b[39mmlp(hidden_states)\n\u001b[1;32m    728\u001b[0m hidden_states \u001b[38;5;241m=\u001b[39m residual \u001b[38;5;241m+\u001b[39m hidden_states\n",
      "File \u001b[0;32m/dlabscratch1/veselovs/.conda/envs/llm-lang/lib/python3.11/site-packages/torch/nn/modules/module.py:1532\u001b[0m, in \u001b[0;36mModule._wrapped_call_impl\u001b[0;34m(self, *args, **kwargs)\u001b[0m\n\u001b[1;32m   1530\u001b[0m     \u001b[38;5;28;01mreturn\u001b[39;00m \u001b[38;5;28mself\u001b[39m\u001b[38;5;241m.\u001b[39m_compiled_call_impl(\u001b[38;5;241m*\u001b[39margs, \u001b[38;5;241m*\u001b[39m\u001b[38;5;241m*\u001b[39mkwargs)  \u001b[38;5;66;03m# type: ignore[misc]\u001b[39;00m\n\u001b[1;32m   1531\u001b[0m \u001b[38;5;28;01melse\u001b[39;00m:\n\u001b[0;32m-> 1532\u001b[0m     \u001b[38;5;28;01mreturn\u001b[39;00m \u001b[38;5;28;43mself\u001b[39;49m\u001b[38;5;241;43m.\u001b[39;49m\u001b[43m_call_impl\u001b[49m\u001b[43m(\u001b[49m\u001b[38;5;241;43m*\u001b[39;49m\u001b[43margs\u001b[49m\u001b[43m,\u001b[49m\u001b[43m \u001b[49m\u001b[38;5;241;43m*\u001b[39;49m\u001b[38;5;241;43m*\u001b[39;49m\u001b[43mkwargs\u001b[49m\u001b[43m)\u001b[49m\n",
      "File \u001b[0;32m/dlabscratch1/veselovs/.conda/envs/llm-lang/lib/python3.11/site-packages/torch/nn/modules/module.py:1582\u001b[0m, in \u001b[0;36mModule._call_impl\u001b[0;34m(self, *args, **kwargs)\u001b[0m\n\u001b[1;32m   1579\u001b[0m     bw_hook \u001b[38;5;241m=\u001b[39m hooks\u001b[38;5;241m.\u001b[39mBackwardHook(\u001b[38;5;28mself\u001b[39m, full_backward_hooks, backward_pre_hooks)\n\u001b[1;32m   1580\u001b[0m     args \u001b[38;5;241m=\u001b[39m bw_hook\u001b[38;5;241m.\u001b[39msetup_input_hook(args)\n\u001b[0;32m-> 1582\u001b[0m result \u001b[38;5;241m=\u001b[39m \u001b[43mforward_call\u001b[49m\u001b[43m(\u001b[49m\u001b[38;5;241;43m*\u001b[39;49m\u001b[43margs\u001b[49m\u001b[43m,\u001b[49m\u001b[43m \u001b[49m\u001b[38;5;241;43m*\u001b[39;49m\u001b[38;5;241;43m*\u001b[39;49m\u001b[43mkwargs\u001b[49m\u001b[43m)\u001b[49m\n\u001b[1;32m   1583\u001b[0m \u001b[38;5;28;01mif\u001b[39;00m _global_forward_hooks \u001b[38;5;129;01mor\u001b[39;00m \u001b[38;5;28mself\u001b[39m\u001b[38;5;241m.\u001b[39m_forward_hooks:\n\u001b[1;32m   1584\u001b[0m     \u001b[38;5;28;01mfor\u001b[39;00m hook_id, hook \u001b[38;5;129;01min\u001b[39;00m (\n\u001b[1;32m   1585\u001b[0m         \u001b[38;5;241m*\u001b[39m_global_forward_hooks\u001b[38;5;241m.\u001b[39mitems(),\n\u001b[1;32m   1586\u001b[0m         \u001b[38;5;241m*\u001b[39m\u001b[38;5;28mself\u001b[39m\u001b[38;5;241m.\u001b[39m_forward_hooks\u001b[38;5;241m.\u001b[39mitems(),\n\u001b[1;32m   1587\u001b[0m     ):\n\u001b[1;32m   1588\u001b[0m         \u001b[38;5;66;03m# mark that always called hook is run\u001b[39;00m\n",
      "File \u001b[0;32m/dlabscratch1/veselovs/.conda/envs/llm-lang/lib/python3.11/site-packages/accelerate/hooks.py:166\u001b[0m, in \u001b[0;36madd_hook_to_module.<locals>.new_forward\u001b[0;34m(module, *args, **kwargs)\u001b[0m\n\u001b[1;32m    164\u001b[0m         output \u001b[38;5;241m=\u001b[39m module\u001b[38;5;241m.\u001b[39m_old_forward(\u001b[38;5;241m*\u001b[39margs, \u001b[38;5;241m*\u001b[39m\u001b[38;5;241m*\u001b[39mkwargs)\n\u001b[1;32m    165\u001b[0m \u001b[38;5;28;01melse\u001b[39;00m:\n\u001b[0;32m--> 166\u001b[0m     output \u001b[38;5;241m=\u001b[39m \u001b[43mmodule\u001b[49m\u001b[38;5;241;43m.\u001b[39;49m\u001b[43m_old_forward\u001b[49m\u001b[43m(\u001b[49m\u001b[38;5;241;43m*\u001b[39;49m\u001b[43margs\u001b[49m\u001b[43m,\u001b[49m\u001b[43m \u001b[49m\u001b[38;5;241;43m*\u001b[39;49m\u001b[38;5;241;43m*\u001b[39;49m\u001b[43mkwargs\u001b[49m\u001b[43m)\u001b[49m\n\u001b[1;32m    167\u001b[0m \u001b[38;5;28;01mreturn\u001b[39;00m module\u001b[38;5;241m.\u001b[39m_hf_hook\u001b[38;5;241m.\u001b[39mpost_forward(module, output)\n",
      "File \u001b[0;32m/dlabscratch1/veselovs/.conda/envs/llm-lang/lib/python3.11/site-packages/transformers/models/llama/modeling_llama.py:87\u001b[0m, in \u001b[0;36mLlamaRMSNorm.forward\u001b[0;34m(self, hidden_states)\u001b[0m\n\u001b[1;32m     85\u001b[0m input_dtype \u001b[38;5;241m=\u001b[39m hidden_states\u001b[38;5;241m.\u001b[39mdtype\n\u001b[1;32m     86\u001b[0m hidden_states \u001b[38;5;241m=\u001b[39m hidden_states\u001b[38;5;241m.\u001b[39mto(torch\u001b[38;5;241m.\u001b[39mfloat32)\n\u001b[0;32m---> 87\u001b[0m variance \u001b[38;5;241m=\u001b[39m \u001b[43mhidden_states\u001b[49m\u001b[38;5;241;43m.\u001b[39;49m\u001b[43mpow\u001b[49m\u001b[43m(\u001b[49m\u001b[38;5;241;43m2\u001b[39;49m\u001b[43m)\u001b[49m\u001b[38;5;241m.\u001b[39mmean(\u001b[38;5;241m-\u001b[39m\u001b[38;5;241m1\u001b[39m, keepdim\u001b[38;5;241m=\u001b[39m\u001b[38;5;28;01mTrue\u001b[39;00m)\n\u001b[1;32m     88\u001b[0m hidden_states \u001b[38;5;241m=\u001b[39m hidden_states \u001b[38;5;241m*\u001b[39m torch\u001b[38;5;241m.\u001b[39mrsqrt(variance \u001b[38;5;241m+\u001b[39m \u001b[38;5;28mself\u001b[39m\u001b[38;5;241m.\u001b[39mvariance_epsilon)\n\u001b[1;32m     89\u001b[0m \u001b[38;5;28;01mreturn\u001b[39;00m \u001b[38;5;28mself\u001b[39m\u001b[38;5;241m.\u001b[39mweight \u001b[38;5;241m*\u001b[39m hidden_states\u001b[38;5;241m.\u001b[39mto(input_dtype)\n",
      "\u001b[0;31mOutOfMemoryError\u001b[0m: CUDA out of memory. Tried to allocate 24.00 MiB. GPU \u0001 has a total capacity of 11.92 GiB of which 960.00 KiB is free. Process 2796309 has 5.15 GiB memory in use. Including non-PyTorch memory, this process has 6.76 GiB memory in use. Of the allocated memory 6.52 GiB is allocated by PyTorch, and 130.70 MiB is reserved by PyTorch but unallocated. If reserved but unallocated memory is large try setting PYTORCH_CUDA_ALLOC_CONF=expandable_segments:True to avoid fragmentation.  See documentation for Memory Management  (https://pytorch.org/docs/stable/notes/cuda.html#environment-variables)"
     ]
    }
   ],
   "source": [
    "from exp_tools import get_mean_activations\n",
    "de_means = get_mean_activations(model, de_prompts, batch_size=batch_size)"
   ]
  },
  {
   "cell_type": "code",
   "execution_count": null,
   "metadata": {},
   "outputs": [],
   "source": [
    "langs = [\"fr\", \"es\", \"de\", \"it\", \"zh\", \"ru\", \"ja\", \"en\"]\n",
    "# all_df = get_bn_dataset(\"en\", langs)"
   ]
  },
  {
   "cell_type": "code",
   "execution_count": null,
   "metadata": {},
   "outputs": [],
   "source": [
    "steering_vectors = [neutral - de for de, neutral in zip(de_means, lang_means)]"
   ]
  },
  {
   "cell_type": "code",
   "execution_count": null,
   "metadata": {},
   "outputs": [
    {
     "name": "stdout",
     "output_type": "stream",
     "text": [
      "Deutsch: \"Auge\" - Deutsch: \"Auge\"\n",
      "Deutsch: \"Linie\" - Deutsch: \"Linie\"\n",
      "Deutsch: \"Person\" - Deutsch: \"Person\"\n",
      "Deutsch: \"Punkt\" - Deutsch: \"Punkt\"\n",
      "Deutsch: \"Tuch\" - Deutsch: \"Tuch\"\n",
      "Deutsch: \"Buch\n"
     ]
    }
   ],
   "source": [
    "from exp_tools import collect_activations\n",
    "buch_prompt = '\"'.join(de_prompts[0].split('\"')[:-2])\n",
    "print(buch_prompt)\n",
    "buch_latents = collect_activations(model, de_prompts[0])"
   ]
  },
  {
   "cell_type": "code",
   "execution_count": null,
   "metadata": {},
   "outputs": [],
   "source": [
    "neutral_buch = [buch + steering for buch, steering in zip(buch_latents, steering_vectors)]"
   ]
  },
  {
   "cell_type": "code",
   "execution_count": null,
   "metadata": {},
   "outputs": [],
   "source": [
    "description_prompt = \"\"\"Nuage: Un nuage est en météorologie une masse visible constituée initialement d'une grande quantité de gouttelettes d'eau en suspension dans l'atmosphère au-dessus de la surface d'une planète.\n",
    "Stern: Unter einem Stern versteht man in der Astronomie einen massereichen, selbstleuchtenden Himmelskörper aus sehr heißem Gas und Plasma, wie zum Beispiel die Sonne.\n",
    "Car: A car is a wheeled motor vehicle used for transportation. Most definitions of cars say that they run primarily on roads, seat one to eight people, have four tires, and mainly transport people rather than goods.\n",
    "Montagne: Une montagne est une forme topographique de relief positif, à la surface de planètes telluriques, et faisant partie d'un ensemble — une chaîne de montagnes — ou formant un relief isolé.\n",
    "Tiger: The tiger (Panthera tigris) is the largest extant cat species and a member of the genus Panthera. It is most recognisable for its dark vertical stripes on orange-brown fur with a lighter underside.\n",
    "Wave: In physics, mathematics, and related fields, a wave is a propagating dynamic disturbance (change from equilibrium) of one or more quantities, sometimes as described by a wave equation.\n",
    "Wasser: Wasser ist insbesondere die chemische Verbindung H2O, bestehend aus den Elementen Sauerstoff und Wasserstoff.\n",
    "Maison: Une maison est un bâtiment d'habitation, souvent de taille moyenne destiné au logement d'une famille ou de plusieurs, sans être considéré comme un immeuble collectif.\n",
    "?\"\"\""
   ]
  },
  {
   "cell_type": "code",
   "execution_count": 3,
   "metadata": {},
   "outputs": [],
   "source": [
    "description_prompt = \"\"\"Nuage: Un nuage est en météorologie une masse visible constituée initialement d'une grande quantité de gouttelettes d'eau en suspension dans l'atmosphère au-dessus de la surface d'une planète.\n",
    "Étoile: Une étoile est en astronomie un corps céleste massif et lumineux constitué de gaz très chaud et de plasma, comme par exemple le Soleil.\n",
    "Voiture: Une voiture est un véhicule motorisé à roues utilisé pour le transport. La plupart des définitions des voitures disent qu'elles roulent principalement sur les routes, peuvent transporter de une à huit personnes, ont quatre pneus, et transportent principalement des personnes plutôt que des marchandises.\n",
    "Montagne: Une montagne est une forme topographique de relief positif, à la surface de planètes telluriques, et faisant partie d'un ensemble — une chaîne de montagnes — ou formant un relief isolé.\n",
    "Tigre: Le tigre (Panthera tigris) est la plus grande espèce de chat existante et un membre du genre Panthera. Il est reconnaissable par ses rayures verticales sombres sur un pelage orange-brun avec un dessous plus clair.\n",
    "Vague: En physique, en mathématiques et dans les domaines connexes, une vague est une perturbation dynamique propagative (changement d'équilibre) d'une ou de plusieurs quantités, parfois décrite par une équation d'onde.\n",
    "Eau: L'eau est notamment la combinaison chimique H2O, constituée des éléments oxygène et hydrogène.\n",
    "Maison: Une maison est un bâtiment d'habitation, souvent de taille moyenne destiné au logement d'une famille ou de plusieurs, sans être considéré comme un immeuble collectif.\n",
    "?\"\"\""
   ]
  },
  {
   "cell_type": "code",
   "execution_count": 4,
   "metadata": {},
   "outputs": [
    {
     "ename": "NameError",
     "evalue": "name 'model' is not defined",
     "output_type": "error",
     "traceback": [
      "\u001b[0;31m---------------------------------------------------------------------------\u001b[0m",
      "\u001b[0;31mNameError\u001b[0m                                 Traceback (most recent call last)",
      "Cell \u001b[0;32mIn[4], line 4\u001b[0m\n\u001b[1;32m      2\u001b[0m layer \u001b[38;5;241m=\u001b[39m \u001b[38;5;241m22\u001b[39m\n\u001b[1;32m      3\u001b[0m max_t \u001b[38;5;241m=\u001b[39m \u001b[38;5;241m20\u001b[39m\n\u001b[0;32m----> 4\u001b[0m \u001b[38;5;28;01mwith\u001b[39;00m \u001b[43mmodel\u001b[49m\u001b[38;5;241m.\u001b[39mgenerate(description_prompt, max_new_tokens\u001b[38;5;241m=\u001b[39mmax_t):\n\u001b[1;32m      5\u001b[0m     get_layer_output(model, layer)[:, \u001b[38;5;241m-\u001b[39m\u001b[38;5;241m1\u001b[39m] \u001b[38;5;241m=\u001b[39m neutral_buch[layer]\n\u001b[1;32m      6\u001b[0m     \u001b[38;5;66;03m# probs = get_next_token_probs(model).save()\u001b[39;00m\n",
      "\u001b[0;31mNameError\u001b[0m: name 'model' is not defined"
     ]
    }
   ],
   "source": [
    "from nnsight_utils import get_layer_output, get_next_token_probs\n",
    "layer = 22\n",
    "max_t = 20\n",
    "with model.generate(description_prompt, max_new_tokens=max_t):\n",
    "    get_layer_output(model, layer)[:, -1] = neutral_buch[layer]\n",
    "    # probs = get_next_token_probs(model).save()\n",
    "    gen = model.generator.output[0].cpu().save()\n",
    "print(model.tokenizer.decode(gen))\n",
    "with model.generate(description_prompt, max_new_tokens=max_t, do_sample=False):\n",
    "    get_layer_output(model, layer)[:, -1] = buch_latents[layer]\n",
    "    gen2 = model.generator.output[0].cpu().save()\n",
    "print()\n",
    "print(model.tokenizer.decode(gen2))\n",
    "with model.generate(description_prompt, max_new_tokens=max_t):\n",
    "    clean_gen = model.generator.output[0].cpu().save()\n",
    "print()\n",
    "print(model.tokenizer.decode(clean_gen))"
   ]
  },
  {
   "cell_type": "code",
   "execution_count": null,
   "metadata": {},
   "outputs": [
    {
     "name": "stderr",
     "output_type": "stream",
     "text": [
      "/mnt/dlabscratch1/cdumas/llm-latent-language/generalization/../utils.py:490: UserWarning: Tight layout not applied. The bottom and top margins cannot be made large enough to accommodate all axes decorations.\n",
      "  plt.tight_layout()\n"
     ]
    },
    {
     "data": {
      "image/png": "[encoded data removed]",
      "text/plain": [
       "<Figure size 400x50 with 2 Axes>"
      ]
     },
     "metadata": {},
     "output_type": "display_data"
    }
   ],
   "source": [
    "plot_topk_tokens(probs.cpu(), model.tokenizer)"
   ]
  },
  {
   "cell_type": "markdown",
   "metadata": {},
   "source": [
    "## Steer using a random lang task"
   ]
  },
  {
   "cell_type": "code",
   "execution_count": null,
   "metadata": {},
   "outputs": [
    {
     "data": {
      "text/plain": [
       "[tensor([[ 0.0074,  0.0091,  0.0113,  ..., -0.0054,  0.0243,  0.0221]],\n",
       "        dtype=torch.float16),\n",
       " tensor([[-0.0018,  0.0263,  0.0040,  ...,  0.0092,  0.0114,  0.0438]],\n",
       "        dtype=torch.float16),\n",
       " tensor([[-0.0171,  0.0144, -0.0501,  ...,  0.0216,  0.0551,  0.0649]],\n",
       "        dtype=torch.float16),\n",
       " tensor([[ 0.0205,  0.0162,  0.0285,  ..., -0.0180,  0.0374,  0.0724]],\n",
       "        dtype=torch.float16),\n",
       " tensor([[-0.0543,  0.0367, -0.0488,  ...,  0.0764,  0.1110,  0.0266]],\n",
       "        dtype=torch.float16),\n",
       " tensor([[-0.0673,  0.0841, -0.0594,  ...,  0.1548,  0.1089,  0.0637]],\n",
       "        dtype=torch.float16),\n",
       " tensor([[-0.0536,  0.0687,  0.0349,  ...,  0.3406,  0.0548,  0.0829]],\n",
       "        dtype=torch.float16),\n",
       " tensor([[-0.0589, -0.0059,  0.0112,  ...,  0.2668, -0.0408,  0.0162]],\n",
       "        dtype=torch.float16),\n",
       " tensor([[-0.0770, -0.0472,  0.1699,  ...,  0.2261, -0.1440,  0.1880]],\n",
       "        dtype=torch.float16),\n",
       " tensor([[-0.1116,  0.1022,  0.0139,  ...,  0.2405, -0.0396,  0.2170]],\n",
       "        dtype=torch.float16),\n",
       " tensor([[-0.0732,  0.1594,  0.1627,  ...,  0.1284, -0.0787,  0.1302]],\n",
       "        dtype=torch.float16),\n",
       " tensor([[-0.0493,  0.2421,  0.1609,  ...,  0.1868, -0.0568,  0.0535]],\n",
       "        dtype=torch.float16),\n",
       " tensor([[-0.0503, -0.0441, -0.0984,  ...,  0.3477,  0.0699,  0.2026]],\n",
       "        dtype=torch.float16),\n",
       " tensor([[-0.1458,  0.1294, -0.1647,  ...,  0.2388,  0.1333,  0.2981]],\n",
       "        dtype=torch.float16),\n",
       " tensor([[-0.0299,  0.0143, -0.4199,  ...,  0.0991,  0.2537,  0.3093]],\n",
       "        dtype=torch.float16),\n",
       " tensor([[-0.0458, -0.0864, -0.5195,  ..., -0.1367,  0.3384,  0.3757]],\n",
       "        dtype=torch.float16),\n",
       " tensor([[ 0.2026, -0.2861, -0.9561,  ..., -0.1147,  0.8970,  0.3145]],\n",
       "        dtype=torch.float16),\n",
       " tensor([[ 0.3337, -0.2822, -1.1562,  ..., -0.1982,  0.7656,  0.3110]],\n",
       "        dtype=torch.float16),\n",
       " tensor([[ 0.3962, -0.1217, -1.1982,  ..., -0.4536,  0.8569,  0.0659]],\n",
       "        dtype=torch.float16),\n",
       " tensor([[ 0.6479, -0.4224, -1.2568,  ..., -0.6621,  1.0996,  0.0404]],\n",
       "        dtype=torch.float16),\n",
       " tensor([[ 0.4297, -0.2666, -1.0293,  ..., -0.5195,  1.1357,  0.0118]],\n",
       "        dtype=torch.float16),\n",
       " tensor([[ 0.4263, -0.0178, -1.2510,  ..., -0.3101,  0.8140,  0.2661]],\n",
       "        dtype=torch.float16),\n",
       " tensor([[ 0.5122,  0.6265, -1.4980,  ..., -0.3491,  0.6948,  0.1509]],\n",
       "        dtype=torch.float16),\n",
       " tensor([[ 0.2983,  0.5752, -1.3916,  ..., -0.2478,  0.3101,  0.2010]],\n",
       "        dtype=torch.float16),\n",
       " tensor([[ 0.2029,  0.7061, -1.3398,  ..., -0.4927, -0.1061,  0.4485]],\n",
       "        dtype=torch.float16),\n",
       " tensor([[ 0.8076,  0.4778, -1.8672,  ..., -0.3025, -0.1554,  0.4822]],\n",
       "        dtype=torch.float16),\n",
       " tensor([[ 0.2761,  0.5752, -2.1035,  ..., -0.3606, -0.1871,  0.5684]],\n",
       "        dtype=torch.float16),\n",
       " tensor([[-0.6475,  0.8013, -2.1836,  ..., -0.7061, -0.4878,  0.3350]],\n",
       "        dtype=torch.float16),\n",
       " tensor([[-0.7588,  1.5781, -2.9434,  ..., -0.9453,  0.0264,  0.9814]],\n",
       "        dtype=torch.float16),\n",
       " tensor([[-1.2783,  1.8291, -3.0898,  ..., -0.8193,  0.3076,  0.4009]],\n",
       "        dtype=torch.float16),\n",
       " tensor([[-1.4570,  2.0703, -3.0586,  ..., -0.7368, -0.8027,  1.0391]],\n",
       "        dtype=torch.float16),\n",
       " tensor([[-1.4746,  1.4609, -4.1328,  ...,  1.8193, -0.0166,  1.4326]],\n",
       "        dtype=torch.float16)]"
      ]
     },
     "execution_count": 66,
     "metadata": {},
     "output_type": "execute_result"
    }
   ],
   "source": [
    "buch_latents"
   ]
  },
  {
   "cell_type": "code",
   "execution_count": null,
   "metadata": {},
   "outputs": [],
   "source": [
    "from random import sample\n",
    "dataset = {\n",
    "    \"A\": [],\n",
    "    \"B\": [],\n",
    "}\n",
    "num_rep = 5\n",
    "for _, row in all_df.iterrows():\n",
    "    dataset[\"A\"]."
   ]
  },
  {
   "cell_type": "code",
   "execution_count": null,
   "metadata": {},
   "outputs": [
    {
     "data": {
      "text/plain": [
       "94"
      ]
     },
     "execution_count": 34,
     "metadata": {},
     "output_type": "execute_result"
    }
   ],
   "source": [
    "prompt = \"A: cat, B: Katze\\nA:DOG^FR, B: DOG^ZH\\nA:CLOUD^RU\\nB:\""
   ]
  },
  {
   "cell_type": "code",
   "execution_count": null,
   "metadata": {},
   "outputs": [],
   "source": []
  }
 ],
 "metadata": {
  "kernelspec": {
   "display_name": "Python 3",
   "language": "python",
   "name": "python3"
  },
  "language_info": {
   "codemirror_mode": {
    "name": "ipython",
    "version": 3
   },
   "file_extension": ".py",
   "mimetype": "text/x-python",
   "name": "python",
   "nbconvert_exporter": "python",
   "pygments_lexer": "ipython3",
   "version": "3.11.9"
  }
 },
 "nbformat": 4,
 "nbformat_minor": 2
}
