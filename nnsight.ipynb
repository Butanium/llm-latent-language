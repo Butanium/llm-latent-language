{
 "cells": [
  {
   "cell_type": "markdown",
   "metadata": {},
   "source": []
  },
  {
   "cell_type": "code",
   "execution_count": 1,
   "metadata": {},
   "outputs": [
    {
     "name": "stderr",
     "output_type": "stream",
     "text": [
      "/users/eleves-b/2024/clement.dumas/english-llama/llm-latent-language/.venv/lib64/python3.9/site-packages/tqdm/auto.py:21: TqdmWarning: IProgress not found. Please update jupyter and ipywidgets. See https://ipywidgets.readthedocs.io/en/stable/user_install.html\n",
      "  from .autonotebook import tqdm as notebook_tqdm\n"
     ]
    }
   ],
   "source": [
    "from nnsight import LanguageModel\n",
    "import torch.nn.functional as F\n",
    "import torch as th\n",
    "from utils import plot_ci_plus_heatmap, plot_ci\n",
    "import matplotlib.pyplot as plt"
   ]
  },
  {
   "cell_type": "code",
   "execution_count": 2,
   "metadata": {},
   "outputs": [
    {
     "name": "stderr",
     "output_type": "stream",
     "text": [
      "Loading checkpoint shards: 100%|██████████| 2/2 [00:00<00:00,  2.84it/s]\n"
     ]
    }
   ],
   "source": [
    "nn_model = LanguageModel(\"croissantllm/CroissantLLMBase\", device_map='auto', dispatch=True)"
   ]
  },
  {
   "cell_type": "code",
   "execution_count": 3,
   "metadata": {},
   "outputs": [
    {
     "name": "stdout",
     "output_type": "stream",
     "text": [
      "LlamaForCausalLM(\n",
      "  (model): LlamaModel(\n",
      "    (embed_tokens): Embedding(32000, 2048)\n",
      "    (layers): ModuleList(\n",
      "      (0-23): 24 x LlamaDecoderLayer(\n",
      "        (self_attn): LlamaSdpaAttention(\n",
      "          (q_proj): Linear(in_features=2048, out_features=2048, bias=False)\n",
      "          (k_proj): Linear(in_features=2048, out_features=2048, bias=False)\n",
      "          (v_proj): Linear(in_features=2048, out_features=2048, bias=False)\n",
      "          (o_proj): Linear(in_features=2048, out_features=2048, bias=False)\n",
      "          (rotary_emb): LlamaRotaryEmbedding()\n",
      "        )\n",
      "        (mlp): LlamaMLP(\n",
      "          (gate_proj): Linear(in_features=2048, out_features=5504, bias=False)\n",
      "          (up_proj): Linear(in_features=2048, out_features=5504, bias=False)\n",
      "          (down_proj): Linear(in_features=5504, out_features=2048, bias=False)\n",
      "          (act_fn): SiLU()\n",
      "        )\n",
      "        (input_layernorm): LlamaRMSNorm()\n",
      "        (post_attention_layernorm): LlamaRMSNorm()\n",
      "      )\n",
      "    )\n",
      "    (norm): LlamaRMSNorm()\n",
      "  )\n",
      "  (lm_head): Linear(in_features=2048, out_features=32000, bias=False)\n",
      "  (generator): WrapperModule()\n",
      ")\n"
     ]
    }
   ],
   "source": [
    "print(nn_model)"
   ]
  },
  {
   "cell_type": "code",
   "execution_count": 4,
   "metadata": {},
   "outputs": [
    {
     "name": "stdout",
     "output_type": "stream",
     "text": [
      "13091 9502 chien dog\n"
     ]
    },
    {
     "name": "stderr",
     "output_type": "stream",
     "text": [
      "You're using a LlamaTokenizerFast tokenizer. Please note that with a fast tokenizer, using the `__call__` method is faster than using a method to encode the text followed by a call to the `pad` method to get a padded encoding.\n"
     ]
    },
    {
     "name": "stdout",
     "output_type": "stream",
     "text": [
      "output: torch.Size([2, 44, 32000]), logits: torch.Size([2, 24, 32000]),  hiddens: torch.Size([2, 24, 2048]), rms_out: torch.Size([2, 24, 2048])\n",
      "layer_out: torch.Size([2, 2048]), probs: torch.Size([2, 24, 32000])\n",
      "hiddens: torch.Size([2, 24, 2048])\n",
      "torch.Size([2, 24, 32000])\n",
      "tensor([3.6847e-16, 1.2163e-15, 2.5106e-16, 3.6976e-17, 1.7909e-13, 5.1155e-14,\n",
      "        5.3412e-13, 3.0456e-13, 1.0748e-14, 1.2161e-16, 6.1484e-17, 2.0894e-12,\n",
      "        1.4723e-11, 1.4745e-13, 3.2301e-12, 2.6833e-14, 9.6543e-14, 5.0355e-11,\n",
      "        1.9274e-02, 9.4427e-01, 9.2990e-01, 9.9058e-01, 6.3211e-01, 8.6791e-01])\n",
      "best tok: chien chien\n",
      "tensor([13091, 13091]) 13091\n"
     ]
    },
    {
     "data": {
      "image/png": "[encoded data removed]",
      "text/plain": [
       "<Figure size 640x480 with 1 Axes>"
      ]
     },
     "metadata": {},
     "output_type": "display_data"
    }
   ],
   "source": [
    "prompts = [\"\"\"The french translation for car is voiture\n",
    "The french translation for hello is bonjour\n",
    "The french translation for cat is chat\n",
    "The french translation for hello is bonjour\n",
    "The french translation for dog is\"\"\"] * 2\n",
    "@th.no_grad\n",
    "def logit_lens(nn_model, prompts):\n",
    "      # nn_model.eval()\n",
    "      with nn_model.trace(prompts) as tracer:\n",
    "            layer_out = nn_model.model.layers[1].output[0].save()\n",
    "            hiddens_l = [layer.output[0][:, -1].unsqueeze(1) for layer in nn_model.model.layers]\n",
    "            hiddens = th.cat(hiddens_l, dim=1).save()\n",
    "            rms_out = nn_model.model.norm(hiddens).save()\n",
    "            logits = nn_model.lm_head(rms_out).save()\n",
    "            output = nn_model.lm_head.output.save()\n",
    "            probs = logits.softmax(-1).save()\n",
    "      print(f\"output: {output.shape}, logits: {logits.shape},  hiddens: {hiddens.shape}, rms_out: {rms_out.shape}\")\n",
    "      print(f\"layer_out: {layer_out[:, -1].shape}, probs: {probs.shape}\")\n",
    "      print(f\"hiddens: {hiddens.shape}\")\n",
    "      assert (logits[:, -1, :] == output[:, -1]).all()\n",
    "      return probs\n",
    "\n",
    "fr = nn_model.tokenizer(\"chien\", add_special_tokens=False).input_ids[0]\n",
    "# fr = 1210\n",
    "en = nn_model.tokenizer(\"dog\", add_special_tokens=False).input_ids[0]\n",
    "print(fr, en, nn_model.tokenizer.decode(fr), nn_model.tokenizer.decode(en))\n",
    "probs = logit_lens(nn_model, prompts)\n",
    "print(probs.shape)\n",
    "fig, ax = plt.subplots()\n",
    "print(probs.cpu()[:, :, fr].mean(0))\n",
    "plot_ci(ax, probs.cpu()[:, :, fr], label='fr')\n",
    "plot_ci(ax, probs.cpu()[:, :, en], label='en', color='red')\n",
    "# plt.plot()\n",
    "print(f\"best tok: {nn_model.tokenizer.decode(probs.cpu()[:, -1].argmax(1))}\")\n",
    "print(probs.cpu()[:, -1].argmax(1), fr)\n",
    "assert (probs[:, -1, fr] == probs[:, -1].max(1).values).all()"
   ]
  },
  {
   "cell_type": "code",
   "execution_count": null,
   "metadata": {},
   "outputs": [],
   "source": []
  },
  {
   "cell_type": "markdown",
   "metadata": {},
   "source": [
    "# Models playgroudn"
   ]
  },
  {
   "cell_type": "code",
   "execution_count": 5,
   "metadata": {},
   "outputs": [
    {
     "name": "stderr",
     "output_type": "stream",
     "text": [
      "Loading checkpoint shards:   0%|          | 0/2 [00:00<?, ?it/s]"
     ]
    },
    {
     "name": "stderr",
     "output_type": "stream",
     "text": [
      "Loading checkpoint shards: 100%|██████████| 2/2 [00:00<00:00,  3.51it/s]\n",
      "WARNING:root:Some parameters are on the meta device device because they were offloaded to the cpu.\n"
     ]
    }
   ],
   "source": [
    "from transformers import AutoModelForCausalLM, AutoTokenizer\n",
    "model_name = \"croissantllm/CroissantLLMBase\"\n",
    "tokenizer = AutoTokenizer.from_pretrained(model_name)\n",
    "model = AutoModelForCausalLM.from_pretrained(model_name, torch_dtype=th.float16, device_map=\"auto\")"
   ]
  },
  {
   "cell_type": "code",
   "execution_count": 6,
   "metadata": {},
   "outputs": [],
   "source": [
    "model.eval()\n",
    "assert (tokenizer(\"dog\") == nn_model.tokenizer(\"dog\"))"
   ]
  },
  {
   "cell_type": "code",
   "execution_count": 8,
   "metadata": {},
   "outputs": [
    {
     "name": "stderr",
     "output_type": "stream",
     "text": [
      "Setting `pad_token_id` to `eos_token_id`:2 for open-end generation.\n",
      "Setting `pad_token_id` to `eos_token_id`:2 for open-end generation.\n"
     ]
    },
    {
     "name": "stdout",
     "output_type": "stream",
     "text": [
      "<s> The french translation for car is voiture\n",
      "The french translation for hello is bonjour\n",
      "The french translation for cat is chat\n",
      "The french translation for hello is bonjour\n",
      "The french translation for dog is chien\n",
      "\n",
      "Without bos:\n",
      "The french translation for car is voiture\n",
      "The french translation for hello is bonjour\n",
      "The french translation for cat is chat\n",
      "The french translation for hello is bonjour\n",
      "The french translation for dog is chien\n",
      "tensor(13091, device='cuda:0')\n"
     ]
    }
   ],
   "source": [
    "# prompt = \"The french translation for 'hello' is 'bonjour'\\nThe french translation for 'head' is '\"\n",
    "prompt = prompts\n",
    "inputs = tokenizer(prompt, return_tensors=\"pt\").to(model.device)\n",
    "tokens = model.generate(**inputs, max_new_tokens=1, do_sample=False)\n",
    "print(tokenizer.decode(tokens[0]))\n",
    "\n",
    "# remove bos token\n",
    "print(\"\\nWithout bos:\")\n",
    "inputs2 = tokenizer(prompt, return_tensors=\"pt\", add_special_tokens=False).to(model.device)\n",
    "tokens2 = model.generate(**inputs2, max_new_tokens=1, do_sample=False)\n",
    "print(tokenizer.decode(tokens2[0]))\n",
    "print(tokens2[0][-1])\n"
   ]
  },
  {
   "cell_type": "code",
   "execution_count": null,
   "metadata": {},
   "outputs": [],
   "source": []
  },
  {
   "cell_type": "code",
   "execution_count": null,
   "metadata": {},
   "outputs": [],
   "source": []
  }
 ],
 "metadata": {
  "kernelspec": {
   "display_name": ".venv",
   "language": "python",
   "name": "python3"
  },
  "language_info": {
   "codemirror_mode": {
    "name": "ipython",
    "version": 3
   },
   "file_extension": ".py",
   "mimetype": "text/x-python",
   "name": "python",
   "nbconvert_exporter": "python",
   "pygments_lexer": "ipython3",
   "version": "3.9.18"
  }
 },
 "nbformat": 4,
 "nbformat_minor": 2
}
